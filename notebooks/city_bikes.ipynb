{
 "cells": [
  {
   "cell_type": "code",
   "execution_count": 1,
   "metadata": {},
   "outputs": [],
   "source": [
    "# Import necessary libraries for HTTP requests and data manipulation\n",
    "import requests\n",
    "import pandas as pd"
   ]
  },
  {
   "cell_type": "markdown",
   "metadata": {},
   "source": [
    "# CityBikes"
   ]
  },
  {
   "cell_type": "markdown",
   "metadata": {},
   "source": [
    "Send a request to CityBikes for the city of your choice. "
   ]
  },
  {
   "cell_type": "code",
   "execution_count": 2,
   "metadata": {},
   "outputs": [],
   "source": [
    "base_url = \"http://api.citybik.es/v2/networks\"\n",
    "response = requests.get(f\"{base_url}/bixi-toronto\")\n",
    "data = response.json()"
   ]
  },
  {
   "cell_type": "markdown",
   "metadata": {},
   "source": [
    "Parse through the response to get the details you want for the bike stations in that city (latitude, longitude, number of bikes). "
   ]
  },
  {
   "cell_type": "code",
   "execution_count": 3,
   "metadata": {},
   "outputs": [],
   "source": [
    "stations = data['network']['stations']\n"
   ]
  },
  {
   "cell_type": "markdown",
   "metadata": {},
   "source": [
    "Put your parsed results into a DataFrame."
   ]
  },
  {
   "cell_type": "code",
   "execution_count": 4,
   "metadata": {},
   "outputs": [
    {
     "name": "stdout",
     "output_type": "stream",
     "text": [
      "   bike_latitude  bike_longitude  free_bikes\n",
      "0      43.665269      -79.319796          17\n",
      "1      43.671420      -79.445947           8\n",
      "2      43.666224      -79.317693          21\n",
      "3      43.653236      -79.376716           2\n",
      "4      43.663722      -79.380288          12\n"
     ]
    }
   ],
   "source": [
    "#creating a dataframe and saving it to a csv file\n",
    "df_bikes = pd.DataFrame(stations)[['latitude', 'longitude', 'free_bikes']]\n",
    "df_bikes = df_bikes.rename(columns={'latitude': 'bike_latitude', 'longitude': 'bike_longitude'})\n",
    "df_bikes.to_csv(\"C:\\\\Users\\\\wamm1\\\\Desktop\\\\P3-Statistical-Modelling-Project\\\\data\\\\df_bikes.csv\", index=False)\n",
    "\n",
    "df_bikes.head(7).to_csv(\"C:\\\\Users\\\\wamm1\\\\Desktop\\\\P3-Statistical-Modelling-Project\\\\data\\\\sample_bikes.csv\", index=False)\n",
    "print(df_bikes.head())"
   ]
  },
  {
   "cell_type": "code",
   "execution_count": null,
   "metadata": {},
   "outputs": [],
   "source": []
  }
 ],
 "metadata": {
  "kernelspec": {
   "display_name": "Python 3",
   "language": "python",
   "name": "python3"
  },
  "language_info": {
   "codemirror_mode": {
    "name": "ipython",
    "version": 3
   },
   "file_extension": ".py",
   "mimetype": "text/x-python",
   "name": "python",
   "nbconvert_exporter": "python",
   "pygments_lexer": "ipython3",
   "version": "3.11.4"
  }
 },
 "nbformat": 4,
 "nbformat_minor": 4
}
