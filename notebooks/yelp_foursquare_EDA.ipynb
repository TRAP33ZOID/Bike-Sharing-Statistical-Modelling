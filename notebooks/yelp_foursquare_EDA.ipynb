{
 "cells": [
  {
   "cell_type": "code",
   "execution_count": 1,
   "metadata": {},
   "outputs": [],
   "source": [
    "# imports\n",
    "import requests\n",
    "import pandas as pd\n",
    "import os"
   ]
  },
  {
   "cell_type": "code",
   "execution_count": 2,
   "metadata": {},
   "outputs": [],
   "source": [
    "yelp_api_key = os.environ[\"yelp_api_key\"]\n",
    "fsq_api_key = os.environ[\"fsq_api_key\"]"
   ]
  },
  {
   "cell_type": "markdown",
   "metadata": {},
   "source": [
    "# Foursquare"
   ]
  },
  {
   "cell_type": "markdown",
   "metadata": {},
   "source": [
    "Send a request to Foursquare with a small radius (1000m) for all the bike stations in your city of choice. "
   ]
  },
  {
   "cell_type": "code",
   "execution_count": 3,
   "metadata": {},
   "outputs": [],
   "source": [
    "# Define the headers for the Foursquare API call\n",
    "headers = {\n",
    "    \"accept\": \"application/json\",\n",
    "    \"Authorization\": fsq_api_key\n",
    "}"
   ]
  },
  {
   "cell_type": "markdown",
   "metadata": {},
   "source": [
    "Parse through the response to get the POI (such as restaurants, bars, etc) details you want (ratings, name, location, etc)"
   ]
  },
  {
   "cell_type": "code",
   "execution_count": 4,
   "metadata": {},
   "outputs": [
    {
     "name": "stdout",
     "output_type": "stream",
     "text": [
      "{'results': [{'fsq_id': '58d4650e2f91cb5ccec03447', 'categories': [{'id': 13029, 'name': 'Brewery', 'icon': {'prefix': 'https://ss3.4sqi.net/img/categories_v2/food/brewery_', 'suffix': '.png'}}, {'id': 13065, 'name': 'Restaurant', 'icon': {'prefix': 'https://ss3.4sqi.net/img/categories_v2/food/default_', 'suffix': '.png'}}], 'chains': [], 'distance': 194, 'geocodes': {'drop_off': {'latitude': 43.663731, 'longitude': -79.319985}, 'main': {'latitude': 43.663372, 'longitude': -79.319902}, 'roof': {'latitude': 43.663372, 'longitude': -79.319902}}, 'link': '/v3/places/58d4650e2f91cb5ccec03447', 'location': {'address': '1001 Eastern Ave', 'country': 'CA', 'cross_street': 'Woodfield Rd', 'formatted_address': '1001 Eastern Ave (Woodfield Rd), Toronto ON M4L 1A8', 'locality': 'Toronto', 'postcode': 'M4L 1A8', 'region': 'ON'}, 'name': 'Rorschach Brewing', 'related_places': {}, 'timezone': 'America/Toronto'}, {'fsq_id': '4ad8f034f964a520301621e3', 'categories': [{'id': 13099, 'name': 'Chinese Restaurant', 'icon': {'prefix': 'https://ss3.4sqi.net/img/categories_v2/food/asian_', 'suffix': '.png'}}, {'id': 13305, 'name': 'Burrito Restaurant', 'icon': {'prefix': 'https://ss3.4sqi.net/img/categories_v2/food/burrito_', 'suffix': '.png'}}], 'chains': [], 'distance': 470, 'geocodes': {'main': {'latitude': 43.664482, 'longitude': -79.325548}, 'roof': {'latitude': 43.664482, 'longitude': -79.325548}}, 'link': '/v3/places/4ad8f034f964a520301621e3', 'location': {'address': '4 Greenwood Ave', 'country': 'CA', 'cross_street': 'at Queen', 'formatted_address': '4 Greenwood Ave (at Queen), Toronto ON M4L 2P4', 'locality': 'Toronto', 'postcode': 'M4L 2P4', 'region': 'ON'}, 'name': 'Chino Locos', 'related_places': {}, 'timezone': 'America/Toronto'}, {'fsq_id': '4b6c32b4f964a520fe282ce3', 'categories': [{'id': 13016, 'name': 'Lounge', 'icon': {'prefix': 'https://ss3.4sqi.net/img/categories_v2/nightlife/default_', 'suffix': '.png'}}, {'id': 13134, 'name': 'Comfort Food Restaurant', 'icon': {'prefix': 'https://ss3.4sqi.net/img/categories_v2/food/default_', 'suffix': '.png'}}, {'id': 13145, 'name': 'Fast Food Restaurant', 'icon': {'prefix': 'https://ss3.4sqi.net/img/categories_v2/food/fastfood_', 'suffix': '.png'}}], 'chains': [], 'distance': 759, 'geocodes': {'main': {'latitude': 43.663791, 'longitude': -79.328899}, 'roof': {'latitude': 43.663791, 'longitude': -79.328899}}, 'link': '/v3/places/4b6c32b4f964a520fe282ce3', 'location': {'address': '5 Hastings Ave', 'country': 'CA', 'cross_street': 'at Queen St E', 'formatted_address': '5 Hastings Ave (at Queen St E), Toronto ON M4L 2L1', 'locality': 'Toronto', 'postcode': 'M4L 2L1', 'region': 'ON'}, 'name': 'Hasting Snack Bar', 'related_places': {}, 'timezone': 'America/Toronto'}, {'fsq_id': '5b3af4f125fb7b0039f9f588', 'categories': [{'id': 13029, 'name': 'Brewery', 'icon': {'prefix': 'https://ss3.4sqi.net/img/categories_v2/food/brewery_', 'suffix': '.png'}}], 'chains': [], 'distance': 842, 'geocodes': {'drop_off': {'latitude': 43.661654, 'longitude': -79.329013}, 'main': {'latitude': 43.661871, 'longitude': -79.329063}, 'roof': {'latitude': 43.661871, 'longitude': -79.329063}}, 'link': '/v3/places/5b3af4f125fb7b0039f9f588', 'location': {'address': '818 Eastern Ave', 'country': 'CA', 'cross_street': 'Leslie Street', 'formatted_address': '818 Eastern Ave (Leslie Street), Toronto ON M4L 1A1', 'locality': 'Toronto', 'postcode': 'M4L 1A1', 'region': 'ON'}, 'name': 'Black Lab Brewing', 'related_places': {}, 'timezone': 'America/Toronto'}, {'fsq_id': '4ae0c7a8f964a520638221e3', 'categories': [{'id': 13199, 'name': 'Indian Restaurant', 'icon': {'prefix': 'https://ss3.4sqi.net/img/categories_v2/food/indian_', 'suffix': '.png'}}], 'chains': [], 'distance': 810, 'geocodes': {'drop_off': {'latitude': 43.672504, 'longitude': -79.321005}, 'main': {'latitude': 43.672665, 'longitude': -79.321041}, 'roof': {'latitude': 43.672665, 'longitude': -79.321041}}, 'link': '/v3/places/4ae0c7a8f964a520638221e3', 'location': {'address': '1460 Gerrard St E', 'country': 'CA', 'cross_street': 'Coxwell Ave', 'formatted_address': '1460 Gerrard St E (Coxwell Ave), Toronto ON M4L 2A3', 'locality': 'Toronto', 'postcode': 'M4L 2A3', 'region': 'ON'}, 'name': 'Udupi Palace', 'related_places': {'parent': {'fsq_id': '4d1bcc3234125941cd53cb17', 'name': 'Gerrard India Bazaar'}}, 'timezone': 'America/Toronto'}], 'context': {'geo_bounds': {'circle': {'center': {'latitude': 43.665269, 'longitude': -79.319796}, 'radius': 1000}}}}\n",
      "{'results': [{'fsq_id': '5753753b498eeb535c53aed5', 'categories': [{'id': 13003, 'name': 'Bar', 'icon': {'prefix': 'https://ss3.4sqi.net/img/categories_v2/nightlife/pub_', 'suffix': '.png'}}, {'id': 13064, 'name': 'Pizzeria', 'icon': {'prefix': 'https://ss3.4sqi.net/img/categories_v2/food/pizza_', 'suffix': '.png'}}], 'chains': [], 'distance': 581, 'geocodes': {'drop_off': {'latitude': 43.669476, 'longitude': -79.439195}, 'main': {'latitude': 43.669324, 'longitude': -79.439163}, 'roof': {'latitude': 43.669324, 'longitude': -79.439163}}, 'link': '/v3/places/5753753b498eeb535c53aed5', 'location': {'address': '229 Geary Ave', 'country': 'CA', 'cross_street': 'at Dufferin St', 'formatted_address': '229 Geary Ave (at Dufferin St), Toronto ON M6H 2C1', 'locality': 'Toronto', 'postcode': 'M6H 2C1', 'region': 'ON'}, 'name': 'The Greater Good Bar', 'related_places': {'children': [{'fsq_id': '5998aa934940bc4de5bfdaca', 'name': 'North of Brooklyn Pizzeria'}]}, 'timezone': 'America/Toronto'}, {'fsq_id': '4b5c7ad5f964a520df3129e3', 'categories': [{'id': 13002, 'name': 'Bakery', 'icon': {'prefix': 'https://ss3.4sqi.net/img/categories_v2/food/bakery_', 'suffix': '.png'}}, {'id': 13039, 'name': 'Deli', 'icon': {'prefix': 'https://ss3.4sqi.net/img/categories_v2/food/deli_', 'suffix': '.png'}}], 'chains': [], 'distance': 603, 'geocodes': {'drop_off': {'latitude': 43.676622, 'longitude': -79.448763}, 'main': {'latitude': 43.676486, 'longitude': -79.448732}, 'roof': {'latitude': 43.676486, 'longitude': -79.448732}}, 'link': '/v3/places/4b5c7ad5f964a520df3129e3', 'location': {'address': '1311 Saint Clair Ave W', 'country': 'CA', 'cross_street': '', 'formatted_address': '1311 Saint Clair Ave W, Toronto ON M6E 1C2', 'locality': 'Toronto', 'postcode': 'M6E 1C2', 'region': 'ON'}, 'name': 'Tre Mari Bakery', 'related_places': {}, 'timezone': 'America/Toronto'}, {'fsq_id': '572e0547498ed619e59df508', 'categories': [{'id': 13035, 'name': 'Coffee Shop', 'icon': {'prefix': 'https://ss3.4sqi.net/img/categories_v2/food/coffeeshop_', 'suffix': '.png'}}], 'chains': [], 'distance': 729, 'geocodes': {'drop_off': {'latitude': 43.665639, 'longitude': -79.449889}, 'main': {'latitude': 43.665549, 'longitude': -79.450108}, 'roof': {'latitude': 43.665549, 'longitude': -79.450108}}, 'link': '/v3/places/572e0547498ed619e59df508', 'location': {'address': '300 Campbell St', 'country': 'CA', 'cross_street': 'Dupont St', 'formatted_address': '300 Campbell St (Dupont St), Toronto ON', 'locality': 'Toronto', 'region': 'ON'}, 'name': 'Hale Coffee', 'related_places': {}, 'timezone': 'America/Toronto'}, {'fsq_id': '5a5659ab17556229a036b74a', 'categories': [{'id': 13309, 'name': 'Middle Eastern Restaurant', 'icon': {'prefix': 'https://ss3.4sqi.net/img/categories_v2/food/middleeastern_', 'suffix': '.png'}}], 'chains': [], 'distance': 617, 'geocodes': {'drop_off': {'latitude': 43.669572, 'longitude': -79.438746}, 'main': {'latitude': 43.669358, 'longitude': -79.4387}, 'roof': {'latitude': 43.669358, 'longitude': -79.4387}}, 'link': '/v3/places/5a5659ab17556229a036b74a', 'location': {'address': '217 Geary Ave', 'country': 'CA', 'cross_street': '', 'formatted_address': '217 Geary Ave, Toronto ON M6H 2C1', 'locality': 'Toronto', 'postcode': 'M6H 2C1', 'region': 'ON'}, 'name': 'Parallel', 'related_places': {}, 'timezone': 'America/Toronto'}, {'fsq_id': '568333d5498e400ae0f1a732', 'categories': [{'id': 13029, 'name': 'Brewery', 'icon': {'prefix': 'https://ss3.4sqi.net/img/categories_v2/food/brewery_', 'suffix': '.png'}}], 'chains': [], 'distance': 774, 'geocodes': {'main': {'latitude': 43.669939, 'longitude': -79.436128}, 'roof': {'latitude': 43.669939, 'longitude': -79.436128}}, 'link': '/v3/places/568333d5498e400ae0f1a732', 'location': {'address': '165 Geary Ave', 'country': 'CA', 'cross_street': 'at Barlett Ave N', 'formatted_address': '165 Geary Ave (at Barlett Ave N), Toronto ON M6H 2B8', 'locality': 'Toronto', 'postcode': 'M6H 2B8', 'region': 'ON'}, 'name': 'Blood Brothers Brewing', 'related_places': {}, 'timezone': 'America/Toronto'}], 'context': {'geo_bounds': {'circle': {'center': {'latitude': 43.67142, 'longitude': -79.445947}, 'radius': 1000}}}}\n",
      "{'results': [{'fsq_id': '58d4650e2f91cb5ccec03447', 'categories': [{'id': 13029, 'name': 'Brewery', 'icon': {'prefix': 'https://ss3.4sqi.net/img/categories_v2/food/brewery_', 'suffix': '.png'}}, {'id': 13065, 'name': 'Restaurant', 'icon': {'prefix': 'https://ss3.4sqi.net/img/categories_v2/food/default_', 'suffix': '.png'}}], 'chains': [], 'distance': 349, 'geocodes': {'drop_off': {'latitude': 43.663731, 'longitude': -79.319985}, 'main': {'latitude': 43.663372, 'longitude': -79.319902}, 'roof': {'latitude': 43.663372, 'longitude': -79.319902}}, 'link': '/v3/places/58d4650e2f91cb5ccec03447', 'location': {'address': '1001 Eastern Ave', 'country': 'CA', 'cross_street': 'Woodfield Rd', 'formatted_address': '1001 Eastern Ave (Woodfield Rd), Toronto ON M4L 1A8', 'locality': 'Toronto', 'postcode': 'M4L 1A8', 'region': 'ON'}, 'name': 'Rorschach Brewing', 'related_places': {}, 'timezone': 'America/Toronto'}, {'fsq_id': '4c1169396e5dc9b61b10b02d', 'categories': [{'id': 13031, 'name': 'Burger Joint', 'icon': {'prefix': 'https://ss3.4sqi.net/img/categories_v2/food/burger_', 'suffix': '.png'}}, {'id': 13068, 'name': 'American Restaurant', 'icon': {'prefix': 'https://ss3.4sqi.net/img/categories_v2/food/default_', 'suffix': '.png'}}, {'id': 13145, 'name': 'Fast Food Restaurant', 'icon': {'prefix': 'https://ss3.4sqi.net/img/categories_v2/food/fastfood_', 'suffix': '.png'}}], 'chains': [], 'distance': 180, 'geocodes': {'main': {'latitude': 43.666763, 'longitude': -79.315564}}, 'link': '/v3/places/4c1169396e5dc9b61b10b02d', 'location': {'address': '1636 Queen St E', 'country': 'CA', 'cross_street': 'btwn Coxwell Ave. & Kingston Rd.', 'formatted_address': '1636 Queen St E (btwn Coxwell Ave. & Kingston Rd.), Toronto ON M4L 1G3', 'locality': 'Toronto', 'postcode': 'M4L 1G3', 'region': 'ON'}, 'name': \"The Burger's Priest\", 'related_places': {}, 'timezone': 'America/Toronto'}, {'fsq_id': '4ae0c7a8f964a520638221e3', 'categories': [{'id': 13199, 'name': 'Indian Restaurant', 'icon': {'prefix': 'https://ss3.4sqi.net/img/categories_v2/food/indian_', 'suffix': '.png'}}], 'chains': [], 'distance': 752, 'geocodes': {'drop_off': {'latitude': 43.672504, 'longitude': -79.321005}, 'main': {'latitude': 43.672665, 'longitude': -79.321041}, 'roof': {'latitude': 43.672665, 'longitude': -79.321041}}, 'link': '/v3/places/4ae0c7a8f964a520638221e3', 'location': {'address': '1460 Gerrard St E', 'country': 'CA', 'cross_street': 'Coxwell Ave', 'formatted_address': '1460 Gerrard St E (Coxwell Ave), Toronto ON M4L 2A3', 'locality': 'Toronto', 'postcode': 'M4L 2A3', 'region': 'ON'}, 'name': 'Udupi Palace', 'related_places': {'parent': {'fsq_id': '4d1bcc3234125941cd53cb17', 'name': 'Gerrard India Bazaar'}}, 'timezone': 'America/Toronto'}, {'fsq_id': '59172e0169e77b035cdbe7bd', 'categories': [{'id': 13046, 'name': 'Ice Cream Parlor', 'icon': {'prefix': 'https://ss3.4sqi.net/img/categories_v2/food/icecream_', 'suffix': '.png'}}, {'id': 13065, 'name': 'Restaurant', 'icon': {'prefix': 'https://ss3.4sqi.net/img/categories_v2/food/default_', 'suffix': '.png'}}], 'chains': [], 'distance': 406, 'geocodes': {'main': {'latitude': 43.667418, 'longitude': -79.312824}, 'roof': {'latitude': 43.667418, 'longitude': -79.312824}}, 'link': '/v3/places/59172e0169e77b035cdbe7bd', 'location': {'address': '1698 Queen St W', 'country': 'CA', 'cross_street': '', 'formatted_address': '1698 Queen St W, Scarborough ON M6R 1B3', 'locality': 'Scarborough', 'postcode': 'M6R 1B3', 'region': 'ON'}, 'name': \"Brett's Ice Cream\", 'related_places': {}, 'timezone': 'America/Toronto'}, {'fsq_id': '4b6c32b4f964a520fe282ce3', 'categories': [{'id': 13016, 'name': 'Lounge', 'icon': {'prefix': 'https://ss3.4sqi.net/img/categories_v2/nightlife/default_', 'suffix': '.png'}}, {'id': 13134, 'name': 'Comfort Food Restaurant', 'icon': {'prefix': 'https://ss3.4sqi.net/img/categories_v2/food/default_', 'suffix': '.png'}}, {'id': 13145, 'name': 'Fast Food Restaurant', 'icon': {'prefix': 'https://ss3.4sqi.net/img/categories_v2/food/fastfood_', 'suffix': '.png'}}], 'chains': [], 'distance': 950, 'geocodes': {'main': {'latitude': 43.663791, 'longitude': -79.328899}, 'roof': {'latitude': 43.663791, 'longitude': -79.328899}}, 'link': '/v3/places/4b6c32b4f964a520fe282ce3', 'location': {'address': '5 Hastings Ave', 'country': 'CA', 'cross_street': 'at Queen St E', 'formatted_address': '5 Hastings Ave (at Queen St E), Toronto ON M4L 2L1', 'locality': 'Toronto', 'postcode': 'M4L 2L1', 'region': 'ON'}, 'name': 'Hasting Snack Bar', 'related_places': {}, 'timezone': 'America/Toronto'}], 'context': {'geo_bounds': {'circle': {'center': {'latitude': 43.666224, 'longitude': -79.317693}, 'radius': 1000}}}}\n",
      "{'results': [{'fsq_id': '506db1a9e4b0a3f3b31412f0', 'categories': [{'id': 13068, 'name': 'American Restaurant', 'icon': {'prefix': 'https://ss3.4sqi.net/img/categories_v2/food/default_', 'suffix': '.png'}}], 'chains': [], 'distance': 276, 'geocodes': {'main': {'latitude': 43.65151, 'longitude': -79.379223}, 'roof': {'latitude': 43.65151, 'longitude': -79.379223}}, 'link': '/v3/places/506db1a9e4b0a3f3b31412f0', 'location': {'address': '1 Richmond St W', 'country': 'CA', 'cross_street': 'Yonge Street', 'formatted_address': '1 Richmond St W (Yonge Street), Toronto ON M5H 3W4', 'locality': 'Toronto', 'postcode': 'M5H 3W4', 'region': 'ON'}, 'name': 'Richmond Station', 'related_places': {}, 'timezone': 'America/Toronto'}, {'fsq_id': '4b8eaea1f964a520b03033e3', 'categories': [{'id': 13049, 'name': 'Diner', 'icon': {'prefix': 'https://ss3.4sqi.net/img/categories_v2/food/diner_', 'suffix': '.png'}}, {'id': 13145, 'name': 'Fast Food Restaurant', 'icon': {'prefix': 'https://ss3.4sqi.net/img/categories_v2/food/fastfood_', 'suffix': '.png'}}], 'chains': [{'id': '47e6f193-dc6a-475f-a49b-ffacf449fa12', 'name': 'Booster Juice'}], 'distance': 154, 'geocodes': {'main': {'latitude': 43.65266, 'longitude': -79.378845}, 'roof': {'latitude': 43.65266, 'longitude': -79.378845}}, 'link': '/v3/places/4b8eaea1f964a520b03033e3', 'location': {'address': '2 Queen St E', 'address_extended': 'Suite 110', 'country': 'CA', 'cross_street': 'Suite #110', 'formatted_address': '2 Queen St E (Suite #110), Toronto ON M5C 3G7', 'locality': 'Toronto', 'postcode': 'M5C 3G7', 'region': 'ON'}, 'name': 'Booster Juice', 'related_places': {}, 'timezone': 'America/Toronto'}, {'fsq_id': '4b49183ff964a520a46526e3', 'categories': [{'id': 13064, 'name': 'Pizzeria', 'icon': {'prefix': 'https://ss3.4sqi.net/img/categories_v2/food/pizza_', 'suffix': '.png'}}, {'id': 13236, 'name': 'Italian Restaurant', 'icon': {'prefix': 'https://ss3.4sqi.net/img/categories_v2/food/italian_', 'suffix': '.png'}}], 'chains': [], 'distance': 271, 'geocodes': {'main': {'latitude': 43.650818, 'longitude': -79.375607}, 'roof': {'latitude': 43.650818, 'longitude': -79.375607}}, 'link': '/v3/places/4b49183ff964a520a46526e3', 'location': {'address': '57A Adelaide St E', 'country': 'CA', 'cross_street': 'at Church St.', 'formatted_address': '57A Adelaide St E (at Church St.), Toronto ON M5C 1K6', 'locality': 'Toronto', 'postcode': 'M5C 1K6', 'region': 'ON'}, 'name': 'Terroni', 'related_places': {}, 'timezone': 'America/Toronto'}, {'fsq_id': '514627d1e4b0dba1b85e9ba8', 'categories': [{'id': 13034, 'name': 'Café', 'icon': {'prefix': 'https://ss3.4sqi.net/img/categories_v2/food/cafe_', 'suffix': '.png'}}, {'id': 13035, 'name': 'Coffee Shop', 'icon': {'prefix': 'https://ss3.4sqi.net/img/categories_v2/food/coffeeshop_', 'suffix': '.png'}}, {'id': 13065, 'name': 'Restaurant', 'icon': {'prefix': 'https://ss3.4sqi.net/img/categories_v2/food/default_', 'suffix': '.png'}}], 'chains': [], 'distance': 346, 'geocodes': {'main': {'latitude': 43.651132, 'longitude': -79.379023}, 'roof': {'latitude': 43.651132, 'longitude': -79.379023}}, 'link': '/v3/places/514627d1e4b0dba1b85e9ba8', 'location': {'address': '140 Yonge St', 'country': 'CA', 'cross_street': 'at Temperance St', 'formatted_address': '140 Yonge St (at Temperance St), Toronto ON M5C 1X6', 'locality': 'Toronto', 'postcode': 'M5C 1X6', 'region': 'ON'}, 'name': 'Dineen Coffee Co', 'related_places': {}, 'timezone': 'America/Toronto'}, {'fsq_id': '4b5ca7d8f964a5207c3c29e3', 'categories': [{'id': 13027, 'name': 'Bistro', 'icon': {'prefix': 'https://ss3.4sqi.net/img/categories_v2/food/default_', 'suffix': '.png'}}, {'id': 13057, 'name': 'Gastropub', 'icon': {'prefix': 'https://ss3.4sqi.net/img/categories_v2/food/gastropub_', 'suffix': '.png'}}, {'id': 13077, 'name': 'Belgian Restaurant', 'icon': {'prefix': 'https://ss3.4sqi.net/img/categories_v2/food/default_', 'suffix': '.png'}}], 'chains': [], 'distance': 426, 'geocodes': {'main': {'latitude': 43.649463, 'longitude': -79.377261}, 'roof': {'latitude': 43.649463, 'longitude': -79.377261}}, 'link': '/v3/places/4b5ca7d8f964a5207c3c29e3', 'location': {'address': '18 King St E', 'address_extended': 'Suite 110', 'country': 'CA', 'cross_street': 'at Yonge St.', 'formatted_address': '18 King St E (at Yonge St.), Toronto ON M5C 1C4', 'locality': 'Toronto', 'postcode': 'M5C 1C4', 'region': 'ON'}, 'name': 'Beer Bistro', 'related_places': {}, 'timezone': 'America/Toronto'}], 'context': {'geo_bounds': {'circle': {'center': {'latitude': 43.653236, 'longitude': -79.376716}, 'radius': 1000}}}}\n",
      "{'results': [{'fsq_id': '4b654efaf964a520aeec2ae3', 'categories': [{'id': 13011, 'name': 'Gay Bar', 'icon': {'prefix': 'https://ss3.4sqi.net/img/categories_v2/nightlife/gaybar_', 'suffix': '.png'}}], 'chains': [], 'distance': 43, 'geocodes': {'main': {'latitude': 43.664198, 'longitude': -79.379979}, 'roof': {'latitude': 43.664198, 'longitude': -79.379979}}, 'link': '/v3/places/4b654efaf964a520aeec2ae3', 'location': {'address': '457 Church St', 'country': 'CA', 'cross_street': 'Alexander', 'formatted_address': '457 Church St (Alexander), Toronto ON M4Y 2C5', 'locality': 'Toronto', 'postcode': 'M4Y 2C5', 'region': 'ON'}, 'name': 'Black Eagle', 'related_places': {}, 'timezone': 'America/Toronto'}, {'fsq_id': '4ab17387f964a520866920e3', 'categories': [{'id': 13018, 'name': 'Pub', 'icon': {'prefix': 'https://ss3.4sqi.net/img/categories_v2/nightlife/pub_', 'suffix': '.png'}}, {'id': 13068, 'name': 'American Restaurant', 'icon': {'prefix': 'https://ss3.4sqi.net/img/categories_v2/food/default_', 'suffix': '.png'}}], 'chains': [], 'distance': 101, 'geocodes': {'main': {'latitude': 43.66457, 'longitude': -79.380272}, 'roof': {'latitude': 43.66457, 'longitude': -79.380272}}, 'link': '/v3/places/4ab17387f964a520866920e3', 'location': {'address': '475 Church St', 'country': 'CA', 'cross_street': 'at Maitland St.', 'formatted_address': '475 Church St (at Maitland St.), Toronto ON M4Y 2C5', 'locality': 'Toronto', 'postcode': 'M4Y 2C5', 'region': 'ON'}, 'name': 'Churchmouse & Firkin', 'related_places': {}, 'timezone': 'America/Toronto'}, {'fsq_id': '4ad887d2f964a520111221e3', 'categories': [{'id': 13011, 'name': 'Gay Bar', 'icon': {'prefix': 'https://ss3.4sqi.net/img/categories_v2/nightlife/gaybar_', 'suffix': '.png'}}, {'id': 13057, 'name': 'Gastropub', 'icon': {'prefix': 'https://ss3.4sqi.net/img/categories_v2/food/gastropub_', 'suffix': '.png'}}, {'id': 13058, 'name': 'Hot Dog Joint', 'icon': {'prefix': 'https://ss3.4sqi.net/img/categories_v2/food/hotdog_', 'suffix': '.png'}}], 'chains': [], 'distance': 111, 'geocodes': {'main': {'latitude': 43.66299, 'longitude': -79.3796}, 'roof': {'latitude': 43.66299, 'longitude': -79.3796}}, 'link': '/v3/places/4ad887d2f964a520111221e3', 'location': {'address': '425 Church St', 'country': 'CA', 'cross_street': 'at Wood St.', 'formatted_address': '425 Church St (at Wood St.), Toronto ON M4Y 2C3', 'locality': 'Toronto', 'postcode': 'M4Y 2C3', 'region': 'ON'}, 'name': 'Hair of the Dog', 'related_places': {}, 'timezone': 'America/Toronto'}, {'fsq_id': '4ad88725f964a5200d1221e3', 'categories': [{'id': 13011, 'name': 'Gay Bar', 'icon': {'prefix': 'https://ss3.4sqi.net/img/categories_v2/nightlife/gaybar_', 'suffix': '.png'}}, {'id': 13065, 'name': 'Restaurant', 'icon': {'prefix': 'https://ss3.4sqi.net/img/categories_v2/food/default_', 'suffix': '.png'}}], 'chains': [], 'distance': 74, 'geocodes': {'main': {'latitude': 43.664459, 'longitude': -79.380255}, 'roof': {'latitude': 43.664459, 'longitude': -79.380255}}, 'link': '/v3/places/4ad88725f964a5200d1221e3', 'location': {'address': '467 Church St', 'address_extended': '# 465', 'country': 'CA', 'formatted_address': '467 Church St, Toronto ON M4Y 2C5', 'locality': 'Toronto', 'postcode': 'M4Y 2C5', 'region': 'ON'}, 'name': \"Woody's\", 'related_places': {}, 'timezone': 'America/Toronto'}, {'fsq_id': '5bd2379cbcbf7a0039a2d7b9', 'categories': [{'id': 13003, 'name': 'Bar', 'icon': {'prefix': 'https://ss3.4sqi.net/img/categories_v2/nightlife/pub_', 'suffix': '.png'}}, {'id': 13354, 'name': 'Theme Restaurant', 'icon': {'prefix': 'https://ss3.4sqi.net/img/categories_v2/food/default_', 'suffix': '.png'}}], 'chains': [], 'distance': 362, 'geocodes': {'main': {'latitude': 43.666761, 'longitude': -79.38179}, 'roof': {'latitude': 43.666761, 'longitude': -79.38179}}, 'link': '/v3/places/5bd2379cbcbf7a0039a2d7b9', 'location': {'address': '580 Church St', 'country': 'CA', 'cross_street': '', 'formatted_address': '580 Church St, Toronto ON M4Y 2E5', 'locality': 'Toronto', 'postcode': 'M4Y 2E5', 'region': 'ON'}, 'name': 'Storm Crow Manor', 'related_places': {}, 'timezone': 'America/Toronto'}], 'context': {'geo_bounds': {'circle': {'center': {'latitude': 43.663722, 'longitude': -79.380288}, 'radius': 1000}}}}\n",
      "{'results': [{'fsq_id': '5a81ae339deb7d369fa7f146', 'categories': [{'id': 13035, 'name': 'Coffee Shop', 'icon': {'prefix': 'https://ss3.4sqi.net/img/categories_v2/food/coffeeshop_', 'suffix': '.png'}}], 'chains': [], 'distance': 456, 'geocodes': {'drop_off': {'latitude': 43.658745, 'longitude': -79.383777}, 'main': {'latitude': 43.658979, 'longitude': -79.383825}, 'roof': {'latitude': 43.658979, 'longitude': -79.383825}}, 'link': '/v3/places/5a81ae339deb7d369fa7f146', 'location': {'address': '44 Gerrard St W', 'country': 'CA', 'cross_street': 'Yonge St', 'formatted_address': '44 Gerrard St W (Yonge St), Toronto ON M5G 2K2', 'locality': 'Toronto', 'postcode': 'M5G 2K2', 'region': 'ON'}, 'name': 'Hailed Coffee', 'related_places': {}, 'timezone': 'America/Toronto'}, {'fsq_id': '557231e3498e540f05f3083c', 'categories': [{'id': 13032, 'name': 'Cafe, Coffee, and Tea House', 'icon': {'prefix': 'https://ss3.4sqi.net/img/categories_v2/food/default_', 'suffix': '.png'}}, {'id': 13065, 'name': 'Restaurant', 'icon': {'prefix': 'https://ss3.4sqi.net/img/categories_v2/food/default_', 'suffix': '.png'}}], 'chains': [{'id': 'd5719cc0-d890-0132-61d3-7a163eb2a6fc', 'name': 'Tim Hortons'}], 'distance': 337, 'geocodes': {'main': {'latitude': 43.658539, 'longitude': -79.385251}, 'roof': {'latitude': 43.658539, 'longitude': -79.385251}}, 'link': '/v3/places/557231e3498e540f05f3083c', 'location': {'address': '70 Gerrard St W', 'country': 'CA', 'cross_street': 'Bay St', 'formatted_address': '70 Gerrard St W (Bay St), Toronto ON M5G 1J5', 'locality': 'Toronto', 'postcode': 'M5G 1J5', 'region': 'ON'}, 'name': 'Tim Hortons', 'related_places': {}, 'timezone': 'America/Toronto'}, {'fsq_id': '4a8355bff964a520d3fa1fe3', 'categories': [{'id': 13236, 'name': 'Italian Restaurant', 'icon': {'prefix': 'https://ss3.4sqi.net/img/categories_v2/food/italian_', 'suffix': '.png'}}], 'chains': [], 'distance': 315, 'geocodes': {'main': {'latitude': 43.659865, 'longitude': -79.388642}, 'roof': {'latitude': 43.659865, 'longitude': -79.388642}}, 'link': '/v3/places/4a8355bff964a520d3fa1fe3', 'location': {'address': '101 College St', 'country': 'CA', 'cross_street': '', 'formatted_address': '101 College St, Toronto ON M5G 1L7', 'locality': 'Toronto', 'postcode': 'M5G 1L7', 'region': 'ON'}, 'name': 'Mercatto', 'related_places': {}, 'timezone': 'America/Toronto'}, {'fsq_id': '51755dc7498ece19b7261641', 'categories': [{'id': 13073, 'name': 'Australian Restaurant', 'icon': {'prefix': 'https://ss3.4sqi.net/img/categories_v2/food/australian_', 'suffix': '.png'}}, {'id': 13334, 'name': 'Sandwich Spot', 'icon': {'prefix': 'https://ss3.4sqi.net/img/categories_v2/food/deli_', 'suffix': '.png'}}, {'id': 13379, 'name': 'Vietnamese Restaurant', 'icon': {'prefix': 'https://ss3.4sqi.net/img/categories_v2/food/vietnamese_', 'suffix': '.png'}}], 'chains': [], 'distance': 604, 'geocodes': {'main': {'latitude': 43.659283, 'longitude': -79.381956}, 'roof': {'latitude': 43.659283, 'longitude': -79.381956}}, 'link': '/v3/places/51755dc7498ece19b7261641', 'location': {'address': '399 Yonge St', 'country': 'CA', 'cross_street': 'Gerrard St.', 'formatted_address': '399 Yonge St (Gerrard St.), Toronto ON M5B 1S9', 'locality': 'Toronto', 'postcode': 'M5B 1S9', 'region': 'ON'}, 'name': 'Banh Mi Boys', 'related_places': {}, 'timezone': 'America/Toronto'}, {'fsq_id': '4ab2b0b9f964a520e56b20e3', 'categories': [{'id': 13003, 'name': 'Bar', 'icon': {'prefix': 'https://ss3.4sqi.net/img/categories_v2/nightlife/pub_', 'suffix': '.png'}}, {'id': 13057, 'name': 'Gastropub', 'icon': {'prefix': 'https://ss3.4sqi.net/img/categories_v2/food/gastropub_', 'suffix': '.png'}}], 'chains': [], 'distance': 454, 'geocodes': {'main': {'latitude': 43.65738, 'longitude': -79.38343}, 'roof': {'latitude': 43.65738, 'longitude': -79.38343}}, 'link': '/v3/places/4ab2b0b9f964a520e56b20e3', 'location': {'address': '35 Elm St', 'country': 'CA', 'cross_street': 'at Bay St.', 'formatted_address': '35 Elm St (at Bay St.), Toronto ON M5G 1H1', 'locality': 'Toronto', 'postcode': 'M5G 1H1', 'region': 'ON'}, 'name': 'The Queen and Beaver Public House', 'related_places': {}, 'timezone': 'America/Toronto'}], 'context': {'geo_bounds': {'circle': {'center': {'latitude': 43.657763, 'longitude': -79.389165}, 'radius': 1000}}}}\n",
      "{'results': [{'fsq_id': '5a81ae339deb7d369fa7f146', 'categories': [{'id': 13035, 'name': 'Coffee Shop', 'icon': {'prefix': 'https://ss3.4sqi.net/img/categories_v2/food/coffeeshop_', 'suffix': '.png'}}], 'chains': [], 'distance': 245, 'geocodes': {'drop_off': {'latitude': 43.658745, 'longitude': -79.383777}, 'main': {'latitude': 43.658979, 'longitude': -79.383825}, 'roof': {'latitude': 43.658979, 'longitude': -79.383825}}, 'link': '/v3/places/5a81ae339deb7d369fa7f146', 'location': {'address': '44 Gerrard St W', 'country': 'CA', 'cross_street': 'Yonge St', 'formatted_address': '44 Gerrard St W (Yonge St), Toronto ON M5G 2K2', 'locality': 'Toronto', 'postcode': 'M5G 2K2', 'region': 'ON'}, 'name': 'Hailed Coffee', 'related_places': {}, 'timezone': 'America/Toronto'}, {'fsq_id': '4ab2b0b9f964a520e56b20e3', 'categories': [{'id': 13003, 'name': 'Bar', 'icon': {'prefix': 'https://ss3.4sqi.net/img/categories_v2/nightlife/pub_', 'suffix': '.png'}}, {'id': 13057, 'name': 'Gastropub', 'icon': {'prefix': 'https://ss3.4sqi.net/img/categories_v2/food/gastropub_', 'suffix': '.png'}}], 'chains': [], 'distance': 104, 'geocodes': {'main': {'latitude': 43.65738, 'longitude': -79.38343}, 'roof': {'latitude': 43.65738, 'longitude': -79.38343}}, 'link': '/v3/places/4ab2b0b9f964a520e56b20e3', 'location': {'address': '35 Elm St', 'country': 'CA', 'cross_street': 'at Bay St.', 'formatted_address': '35 Elm St (at Bay St.), Toronto ON M5G 1H1', 'locality': 'Toronto', 'postcode': 'M5G 1H1', 'region': 'ON'}, 'name': 'The Queen and Beaver Public House', 'related_places': {}, 'timezone': 'America/Toronto'}, {'fsq_id': '51755dc7498ece19b7261641', 'categories': [{'id': 13073, 'name': 'Australian Restaurant', 'icon': {'prefix': 'https://ss3.4sqi.net/img/categories_v2/food/australian_', 'suffix': '.png'}}, {'id': 13334, 'name': 'Sandwich Spot', 'icon': {'prefix': 'https://ss3.4sqi.net/img/categories_v2/food/deli_', 'suffix': '.png'}}, {'id': 13379, 'name': 'Vietnamese Restaurant', 'icon': {'prefix': 'https://ss3.4sqi.net/img/categories_v2/food/vietnamese_', 'suffix': '.png'}}], 'chains': [], 'distance': 291, 'geocodes': {'main': {'latitude': 43.659283, 'longitude': -79.381956}, 'roof': {'latitude': 43.659283, 'longitude': -79.381956}}, 'link': '/v3/places/51755dc7498ece19b7261641', 'location': {'address': '399 Yonge St', 'country': 'CA', 'cross_street': 'Gerrard St.', 'formatted_address': '399 Yonge St (Gerrard St.), Toronto ON M5B 1S9', 'locality': 'Toronto', 'postcode': 'M5B 1S9', 'region': 'ON'}, 'name': 'Banh Mi Boys', 'related_places': {}, 'timezone': 'America/Toronto'}, {'fsq_id': '5615b6c4498e3c32c67ad78f', 'categories': [{'id': 13064, 'name': 'Pizzeria', 'icon': {'prefix': 'https://ss3.4sqi.net/img/categories_v2/food/pizza_', 'suffix': '.png'}}], 'chains': [], 'distance': 220, 'geocodes': {'main': {'latitude': 43.656609, 'longitude': -79.380128}, 'roof': {'latitude': 43.656609, 'longitude': -79.380128}}, 'link': '/v3/places/5615b6c4498e3c32c67ad78f', 'location': {'address': '10 Dundas St E', 'address_extended': '# 124', 'country': 'CA', 'cross_street': '', 'formatted_address': '10 Dundas St E, Toronto ON M5B 2G9', 'locality': 'Toronto', 'postcode': 'M5B 2G9', 'region': 'ON'}, 'name': 'Blaze Pizza', 'related_places': {}, 'timezone': 'America/Toronto'}, {'fsq_id': '4adc9148f964a520512d21e3', 'categories': [{'id': 13145, 'name': 'Fast Food Restaurant', 'icon': {'prefix': 'https://ss3.4sqi.net/img/categories_v2/food/fastfood_', 'suffix': '.png'}}, {'id': 13303, 'name': 'Mexican Restaurant', 'icon': {'prefix': 'https://ss3.4sqi.net/img/categories_v2/food/mexican_', 'suffix': '.png'}}], 'chains': [{'id': 'ab4c58e0-d68a-012e-5619-003048cad9da', 'name': 'Chipotle Mexican Grill'}], 'distance': 147, 'geocodes': {'main': {'latitude': 43.656829, 'longitude': -79.380958}, 'roof': {'latitude': 43.656829, 'longitude': -79.380958}}, 'link': '/v3/places/4adc9148f964a520512d21e3', 'location': {'address': '323 Yonge St', 'address_extended': 'Unit 114', 'country': 'CA', 'cross_street': 'Yonge & Dundas', 'formatted_address': '323 Yonge St (Yonge & Dundas), Toronto ON M5B 1R7', 'locality': 'Toronto', 'postcode': 'M5B 1R7', 'region': 'ON'}, 'name': 'Chipotle Mexican Grill', 'related_places': {}, 'timezone': 'America/Toronto'}], 'context': {'geo_bounds': {'circle': {'center': {'latitude': 43.656729, 'longitude': -79.382736}, 'radius': 1000}}}}\n"
     ]
    }
   ],
   "source": [
    "# Function to fetch Foursquare data for a given latitude and longitude\n",
    "def fetch_foursquare_data(lat, lon):\n",
    "    url = f\"https://api.foursquare.com/v3/places/search?query=%20&ll={lat}%2C{lon}&radius=1000&categories=13000&sort=RELEVANCE&limit=5\"\n",
    "    response = requests.get(url, headers=headers)\n",
    "    print(response.json())\n",
    "    results = response.json().get(\"results\", [])\n",
    "    \n",
    "    extracted_data = []\n",
    "    for result in results:\n",
    "        name = result[\"name\"]\n",
    "        distance = result[\"distance\"]\n",
    "        formatted_address = result[\"location\"][\"formatted_address\"]\n",
    "        \n",
    "        extracted_data.append([lat, lon, name, distance, formatted_address,])\n",
    "    \n",
    "    return extracted_data\n",
    "\n",
    "# File path for the CSV file containing the latitudes and longitudes\n",
    "file_path = r\"C:\\Users\\wamm1\\Desktop\\P3-Statistical-Modelling-Project\\data\\sample_bikes.csv\"\n",
    "df_bikes = pd.read_csv(file_path)\n",
    "\n",
    "# Fetch Foursquare data for each set of latitude and longitude\n",
    "all_foursquare_data = []\n",
    "for _, row in df_bikes.iterrows():\n",
    "    all_foursquare_data.extend(fetch_foursquare_data(row[\"bike_latitude\"], row[\"bike_longitude\"]))"
   ]
  },
  {
   "cell_type": "markdown",
   "metadata": {},
   "source": [
    "Put your parsed results into a DataFrame"
   ]
  },
  {
   "cell_type": "code",
   "execution_count": 5,
   "metadata": {},
   "outputs": [
    {
     "name": "stdout",
     "output_type": "stream",
     "text": [
      "    bike_latitude  bike_longitude                               name  \\\n",
      "0       43.665269      -79.319796                  Rorschach Brewing   \n",
      "1       43.665269      -79.319796                        Chino Locos   \n",
      "2       43.665269      -79.319796                  Hasting Snack Bar   \n",
      "3       43.665269      -79.319796                  Black Lab Brewing   \n",
      "4       43.665269      -79.319796                       Udupi Palace   \n",
      "5       43.671420      -79.445947               The Greater Good Bar   \n",
      "6       43.671420      -79.445947                    Tre Mari Bakery   \n",
      "7       43.671420      -79.445947                        Hale Coffee   \n",
      "8       43.671420      -79.445947                           Parallel   \n",
      "9       43.671420      -79.445947             Blood Brothers Brewing   \n",
      "10      43.666224      -79.317693                  Rorschach Brewing   \n",
      "11      43.666224      -79.317693                The Burger's Priest   \n",
      "12      43.666224      -79.317693                       Udupi Palace   \n",
      "13      43.666224      -79.317693                  Brett's Ice Cream   \n",
      "14      43.666224      -79.317693                  Hasting Snack Bar   \n",
      "15      43.653236      -79.376716                   Richmond Station   \n",
      "16      43.653236      -79.376716                      Booster Juice   \n",
      "17      43.653236      -79.376716                            Terroni   \n",
      "18      43.653236      -79.376716                   Dineen Coffee Co   \n",
      "19      43.653236      -79.376716                        Beer Bistro   \n",
      "20      43.663722      -79.380288                        Black Eagle   \n",
      "21      43.663722      -79.380288               Churchmouse & Firkin   \n",
      "22      43.663722      -79.380288                    Hair of the Dog   \n",
      "23      43.663722      -79.380288                            Woody's   \n",
      "24      43.663722      -79.380288                   Storm Crow Manor   \n",
      "25      43.657763      -79.389165                      Hailed Coffee   \n",
      "26      43.657763      -79.389165                        Tim Hortons   \n",
      "27      43.657763      -79.389165                           Mercatto   \n",
      "28      43.657763      -79.389165                       Banh Mi Boys   \n",
      "29      43.657763      -79.389165  The Queen and Beaver Public House   \n",
      "30      43.656729      -79.382736                      Hailed Coffee   \n",
      "31      43.656729      -79.382736  The Queen and Beaver Public House   \n",
      "32      43.656729      -79.382736                       Banh Mi Boys   \n",
      "33      43.656729      -79.382736                        Blaze Pizza   \n",
      "34      43.656729      -79.382736             Chipotle Mexican Grill   \n",
      "\n",
      "    distance                                            address  \n",
      "0        194  1001 Eastern Ave (Woodfield Rd), Toronto ON M4...  \n",
      "1        470     4 Greenwood Ave (at Queen), Toronto ON M4L 2P4  \n",
      "2        759  5 Hastings Ave (at Queen St E), Toronto ON M4L...  \n",
      "3        842  818 Eastern Ave (Leslie Street), Toronto ON M4...  \n",
      "4        810  1460 Gerrard St E (Coxwell Ave), Toronto ON M4...  \n",
      "5        581  229 Geary Ave (at Dufferin St), Toronto ON M6H...  \n",
      "6        603         1311 Saint Clair Ave W, Toronto ON M6E 1C2  \n",
      "7        729            300 Campbell St (Dupont St), Toronto ON  \n",
      "8        617                  217 Geary Ave, Toronto ON M6H 2C1  \n",
      "9        774  165 Geary Ave (at Barlett Ave N), Toronto ON M...  \n",
      "10       349  1001 Eastern Ave (Woodfield Rd), Toronto ON M4...  \n",
      "11       180  1636 Queen St E (btwn Coxwell Ave. & Kingston ...  \n",
      "12       752  1460 Gerrard St E (Coxwell Ave), Toronto ON M4...  \n",
      "13       406            1698 Queen St W, Scarborough ON M6R 1B3  \n",
      "14       950  5 Hastings Ave (at Queen St E), Toronto ON M4L...  \n",
      "15       276  1 Richmond St W (Yonge Street), Toronto ON M5H...  \n",
      "16       154      2 Queen St E (Suite #110), Toronto ON M5C 3G7  \n",
      "17       271  57A Adelaide St E (at Church St.), Toronto ON ...  \n",
      "18       346  140 Yonge St (at Temperance St), Toronto ON M5...  \n",
      "19       426    18 King St E (at Yonge St.), Toronto ON M5C 1C4  \n",
      "20        43      457 Church St (Alexander), Toronto ON M4Y 2C5  \n",
      "21       101  475 Church St (at Maitland St.), Toronto ON M4...  \n",
      "22       111    425 Church St (at Wood St.), Toronto ON M4Y 2C3  \n",
      "23        74                  467 Church St, Toronto ON M4Y 2C5  \n",
      "24       362                  580 Church St, Toronto ON M4Y 2E5  \n",
      "25       456     44 Gerrard St W (Yonge St), Toronto ON M5G 2K2  \n",
      "26       337       70 Gerrard St W (Bay St), Toronto ON M5G 1J5  \n",
      "27       315                 101 College St, Toronto ON M5G 1L7  \n",
      "28       604     399 Yonge St (Gerrard St.), Toronto ON M5B 1S9  \n",
      "29       454         35 Elm St (at Bay St.), Toronto ON M5G 1H1  \n",
      "30       245     44 Gerrard St W (Yonge St), Toronto ON M5G 2K2  \n",
      "31       104         35 Elm St (at Bay St.), Toronto ON M5G 1H1  \n",
      "32       291     399 Yonge St (Gerrard St.), Toronto ON M5B 1S9  \n",
      "33       220                 10 Dundas St E, Toronto ON M5B 2G9  \n",
      "34       147  323 Yonge St (Yonge & Dundas), Toronto ON M5B 1R7  \n"
     ]
    }
   ],
   "source": [
    "df_all_foursquare = pd.DataFrame(all_foursquare_data, columns=[\"bike_latitude\", \"bike_longitude\", \"name\", \"distance\", \"address\"])\n",
    "\n",
    "# Display or save/export the dataframe as needed\n",
    "print(df_all_foursquare)\n",
    "df_all_foursquare.to_csv(\"C:\\\\Users\\\\wamm1\\\\Desktop\\\\P3-Statistical-Modelling-Project\\\\data\\\\df_all_foursquare.csv\", index=False)\n",
    "\n"
   ]
  },
  {
   "cell_type": "markdown",
   "metadata": {},
   "source": [
    "# Yelp"
   ]
  },
  {
   "cell_type": "markdown",
   "metadata": {},
   "source": [
    "Send a request to Yelp with a small radius (1000m) for all the bike stations in your city of choice. "
   ]
  },
  {
   "cell_type": "code",
   "execution_count": 6,
   "metadata": {},
   "outputs": [],
   "source": [
    "# Define the headers for the Yelp API call\n",
    "#headers = {\n",
    "    #\"accept\": \"application/json\",\n",
    "    #\"Authorization\": yelp_api_key\n",
    "    #}\n",
    "yelp_api_key = os.environ[\"yelp_api_key\"]\n",
    "headers = {\n",
    "    \"accept\": \"application/json\",\n",
    "    \"Authorization\": f\"Bearer {yelp_api_key}\"\n",
    "}"
   ]
  },
  {
   "cell_type": "markdown",
   "metadata": {},
   "source": [
    "Parse through the response to get the POI (such as restaurants, bars, etc) details you want (ratings, name, location, etc)"
   ]
  },
  {
   "cell_type": "code",
   "execution_count": 7,
   "metadata": {},
   "outputs": [
    {
     "name": "stdout",
     "output_type": "stream",
     "text": [
      "{'businesses': [{'id': 'dAmVTQ6ukuLh4UxTmBoRkg', 'alias': 'mahas-toronto-2', 'name': \"Maha's\", 'image_url': 'https://s3-media2.fl.yelpcdn.com/bphoto/Sx-jTXmJ5szMlqR6E9e6dA/o.jpg', 'is_closed': False, 'url': 'https://www.yelp.com/biz/mahas-toronto-2?adjust_creative=bgFAiaZNQ_2T2qA0ygnbbw&utm_campaign=yelp_api_v3&utm_medium=api_v3_business_search&utm_source=bgFAiaZNQ_2T2qA0ygnbbw', 'review_count': 598, 'categories': [{'alias': 'egyptian', 'title': 'Egyptian'}, {'alias': 'vegan', 'title': 'Vegan'}, {'alias': 'sandwiches', 'title': 'Sandwiches'}], 'rating': 4.0, 'coordinates': {'latitude': 43.67167, 'longitude': -79.32853}, 'transactions': [], 'price': '$$', 'location': {'address1': '226 Greenwood Avenue', 'address2': '', 'address3': '', 'city': 'Toronto', 'zip_code': 'M4L 2R2', 'country': 'CA', 'state': 'ON', 'display_address': ['226 Greenwood Avenue', 'Toronto, ON M4L 2R2', 'Canada']}, 'phone': '+14164622703', 'display_phone': '+1 416-462-2703', 'distance': 1005.190034713692}, {'id': 'RUd_M7DPJq1I3DPq0oF--w', 'alias': 'lahore-tikka-house-toronto', 'name': 'Lahore Tikka House', 'image_url': 'https://s3-media2.fl.yelpcdn.com/bphoto/pMGUpKowuXRBwpHEtfYjKQ/o.jpg', 'is_closed': False, 'url': 'https://www.yelp.com/biz/lahore-tikka-house-toronto?adjust_creative=bgFAiaZNQ_2T2qA0ygnbbw&utm_campaign=yelp_api_v3&utm_medium=api_v3_business_search&utm_source=bgFAiaZNQ_2T2qA0ygnbbw', 'review_count': 544, 'categories': [{'alias': 'halal', 'title': 'Halal'}, {'alias': 'pakistani', 'title': 'Pakistani'}], 'rating': 3.5, 'coordinates': {'latitude': 43.67148, 'longitude': -79.32451}, 'transactions': [], 'price': '$$', 'location': {'address1': '1365 Gerrard Street E', 'address2': '', 'address3': '', 'city': 'Toronto', 'zip_code': 'M4L 1Z3', 'country': 'CA', 'state': 'ON', 'display_address': ['1365 Gerrard Street E', 'Toronto, ON M4L 1Z3', 'Canada']}, 'phone': '+14164061668', 'display_phone': '+1 416-406-1668', 'distance': 787.4737977905058}, {'id': 'oWTn2IzrprsRkPfULtjZtQ', 'alias': 'the-burgers-priest-toronto', 'name': \"The Burger's Priest\", 'image_url': 'https://s3-media2.fl.yelpcdn.com/bphoto/bM8N4iMn3U6_BAy_vcawzg/o.jpg', 'is_closed': False, 'url': 'https://www.yelp.com/biz/the-burgers-priest-toronto?adjust_creative=bgFAiaZNQ_2T2qA0ygnbbw&utm_campaign=yelp_api_v3&utm_medium=api_v3_business_search&utm_source=bgFAiaZNQ_2T2qA0ygnbbw', 'review_count': 507, 'categories': [{'alias': 'burgers', 'title': 'Burgers'}], 'rating': 3.5, 'coordinates': {'latitude': 43.666699590075, 'longitude': -79.3155846030585}, 'transactions': [], 'price': '$$', 'location': {'address1': '1636 Queen Street E', 'address2': '', 'address3': '', 'city': 'Toronto', 'zip_code': 'M4L 1G3', 'country': 'CA', 'state': 'ON', 'display_address': ['1636 Queen Street E', 'Toronto, ON M4L 1G3', 'Canada']}, 'phone': '+16473460617', 'display_phone': '+1 647-346-0617', 'distance': 374.2380726403347}, {'id': '3qTSOuJ-ZyU1L7o62KHSIg', 'alias': 'gio-ranas-really-really-nice-restaurant-toronto', 'name': \"Gio Rana's Really Really Nice Restaurant\", 'image_url': 'https://s3-media4.fl.yelpcdn.com/bphoto/Ywy-_lbDd7TJb_KY3HPW9A/o.jpg', 'is_closed': False, 'url': 'https://www.yelp.com/biz/gio-ranas-really-really-nice-restaurant-toronto?adjust_creative=bgFAiaZNQ_2T2qA0ygnbbw&utm_campaign=yelp_api_v3&utm_medium=api_v3_business_search&utm_source=bgFAiaZNQ_2T2qA0ygnbbw', 'review_count': 230, 'categories': [{'alias': 'italian', 'title': 'Italian'}, {'alias': 'tapasmallplates', 'title': 'Tapas/Small Plates'}], 'rating': 4.0, 'coordinates': {'latitude': 43.663335336163, 'longitude': -79.3304189287309}, 'transactions': [], 'price': '$$$', 'location': {'address1': '1220 Queen Street East', 'address2': '', 'address3': '', 'city': 'Toronto', 'zip_code': 'M4M 1L7', 'country': 'CA', 'state': 'ON', 'display_address': ['1220 Queen Street East', 'Toronto, ON M4M 1L7', 'Canada']}, 'phone': '+14164695225', 'display_phone': '+1 416-469-5225', 'distance': 881.124117228234}, {'id': 'A-KVm7iKLOe1X1yAQP13FA', 'alias': 'udupi-palace-toronto', 'name': 'Udupi Palace', 'image_url': 'https://s3-media2.fl.yelpcdn.com/bphoto/lI6g_nb8gBKEproAJh1a_A/o.jpg', 'is_closed': False, 'url': 'https://www.yelp.com/biz/udupi-palace-toronto?adjust_creative=bgFAiaZNQ_2T2qA0ygnbbw&utm_campaign=yelp_api_v3&utm_medium=api_v3_business_search&utm_source=bgFAiaZNQ_2T2qA0ygnbbw', 'review_count': 208, 'categories': [{'alias': 'indpak', 'title': 'Indian'}, {'alias': 'vegetarian', 'title': 'Vegetarian'}, {'alias': 'gluten_free', 'title': 'Gluten-Free'}], 'rating': 3.5, 'coordinates': {'latitude': 43.67273, 'longitude': -79.3210299}, 'transactions': [], 'price': '$$', 'location': {'address1': '1460 Gerrard Street E', 'address2': '', 'address3': '', 'city': 'Toronto', 'zip_code': 'M4L 2A3', 'country': 'CA', 'state': 'ON', 'display_address': ['1460 Gerrard Street E', 'Toronto, ON M4L 2A3', 'Canada']}, 'phone': '+14164058189', 'display_phone': '+1 416-405-8189', 'distance': 839.3962424759334}], 'total': 120, 'region': {'center': {'longitude': -79.319796, 'latitude': 43.665269}}}\n",
      "{'businesses': [{'id': 'a-Mo7Ipu_c5y21mmg0-F7g', 'alias': 'agio-toronto', 'name': 'Agio', 'image_url': 'https://s3-media3.fl.yelpcdn.com/bphoto/f30kObTJtPqRCVXGhKCmcg/o.jpg', 'is_closed': False, 'url': 'https://www.yelp.com/biz/agio-toronto?adjust_creative=bgFAiaZNQ_2T2qA0ygnbbw&utm_campaign=yelp_api_v3&utm_medium=api_v3_business_search&utm_source=bgFAiaZNQ_2T2qA0ygnbbw', 'review_count': 190, 'categories': [{'alias': 'italian', 'title': 'Italian'}], 'rating': 4.5, 'coordinates': {'latitude': 43.67599, 'longitude': -79.45066}, 'transactions': [], 'price': '$$', 'location': {'address1': '1351 St Clair Avenue W', 'address2': '', 'address3': '', 'city': 'Toronto', 'zip_code': 'M6E 1C5', 'country': 'CA', 'state': 'ON', 'display_address': ['1351 St Clair Avenue W', 'Toronto, ON M6E 1C5', 'Canada']}, 'phone': '+16473484814', 'display_phone': '+1 647-348-4814', 'distance': 646.4712110381079}, {'id': 'Q3SdFs_6P3BPhPPywHZqBQ', 'alias': 'khmer-thai-restaurant-toronto-2', 'name': 'Khmer Thai Restaurant', 'image_url': 'https://s3-media3.fl.yelpcdn.com/bphoto/eorCB-Dn_HvapCnnHTn6XQ/o.jpg', 'is_closed': False, 'url': 'https://www.yelp.com/biz/khmer-thai-restaurant-toronto-2?adjust_creative=bgFAiaZNQ_2T2qA0ygnbbw&utm_campaign=yelp_api_v3&utm_medium=api_v3_business_search&utm_source=bgFAiaZNQ_2T2qA0ygnbbw', 'review_count': 139, 'categories': [{'alias': 'thai', 'title': 'Thai'}, {'alias': 'cambodian', 'title': 'Cambodian'}], 'rating': 4.0, 'coordinates': {'latitude': 43.67937, 'longitude': -79.43781}, 'transactions': [], 'price': '$$', 'location': {'address1': '1018 St Clair Avenue W', 'address2': '', 'address3': '', 'city': 'Toronto', 'zip_code': 'M6E 1A4', 'country': 'CA', 'state': 'ON', 'display_address': ['1018 St Clair Avenue W', 'Toronto, ON M6E 1A4', 'Canada']}, 'phone': '+14166540609', 'display_phone': '+1 416-654-0609', 'distance': 1091.4762270896767}, {'id': 'Cx0o524EbpLh8Luvjx6DMw', 'alias': 'parallel-toronto', 'name': 'Parallel', 'image_url': 'https://s3-media3.fl.yelpcdn.com/bphoto/Kzw-AiPFITyfFXdfTsU-AA/o.jpg', 'is_closed': False, 'url': 'https://www.yelp.com/biz/parallel-toronto?adjust_creative=bgFAiaZNQ_2T2qA0ygnbbw&utm_campaign=yelp_api_v3&utm_medium=api_v3_business_search&utm_source=bgFAiaZNQ_2T2qA0ygnbbw', 'review_count': 105, 'categories': [{'alias': 'mediterranean', 'title': 'Mediterranean'}], 'rating': 4.0, 'coordinates': {'latitude': 43.6694450818033, 'longitude': -79.4385803863406}, 'transactions': [], 'price': '$$', 'location': {'address1': '217 Geary Avenue', 'address2': '', 'address3': None, 'city': 'Toronto', 'zip_code': 'M6H 2C1', 'country': 'CA', 'state': 'ON', 'display_address': ['217 Geary Avenue', 'Toronto, ON M6H 2C1', 'Canada']}, 'phone': '+14165167765', 'display_phone': '+1 416-516-7765', 'distance': 631.8823306471566}, {'id': 'a4MVM9E9022sYFrrYWy9DQ', 'alias': 'marcello-s-pizzeria-toronto', 'name': 'Marcello’s pizzeria', 'image_url': 'https://s3-media4.fl.yelpcdn.com/bphoto/IoXSroyZP70UqAFIzhucZg/o.jpg', 'is_closed': False, 'url': 'https://www.yelp.com/biz/marcello-s-pizzeria-toronto?adjust_creative=bgFAiaZNQ_2T2qA0ygnbbw&utm_campaign=yelp_api_v3&utm_medium=api_v3_business_search&utm_source=bgFAiaZNQ_2T2qA0ygnbbw', 'review_count': 102, 'categories': [{'alias': 'pizza', 'title': 'Pizza'}, {'alias': 'italian', 'title': 'Italian'}], 'rating': 4.0, 'coordinates': {'latitude': 43.67783, 'longitude': -79.4425399}, 'transactions': [], 'price': '$$', 'location': {'address1': '1163 Saint Clair Avenue W', 'address2': '', 'address3': '', 'city': 'Toronto', 'zip_code': 'M6E 1B2', 'country': 'CA', 'state': 'ON', 'display_address': ['1163 Saint Clair Avenue W', 'Toronto, ON M6E 1B2', 'Canada']}, 'phone': '+14166566159', 'display_phone': '+1 416-656-6159', 'distance': 769.5753009498222}, {'id': 'RMG_Sp9tVZ-j3WfQoxxbeg', 'alias': 'sushi-california-toronto', 'name': 'Sushi California', 'image_url': 'https://s3-media2.fl.yelpcdn.com/bphoto/1T8wU_1Fb0fjOhnQUrGhQA/o.jpg', 'is_closed': False, 'url': 'https://www.yelp.com/biz/sushi-california-toronto?adjust_creative=bgFAiaZNQ_2T2qA0ygnbbw&utm_campaign=yelp_api_v3&utm_medium=api_v3_business_search&utm_source=bgFAiaZNQ_2T2qA0ygnbbw', 'review_count': 101, 'categories': [{'alias': 'sushi', 'title': 'Sushi Bars'}], 'rating': 3.5, 'coordinates': {'latitude': 43.6776399, 'longitude': -79.44563}, 'transactions': [], 'price': '$$', 'location': {'address1': '1238 Saint Clair Avenue W', 'address2': '', 'address3': '', 'city': 'Toronto', 'zip_code': 'M6E', 'country': 'CA', 'state': 'ON', 'display_address': ['1238 Saint Clair Avenue W', 'Toronto, ON M6E', 'Canada']}, 'phone': '+14166581238', 'display_phone': '+1 416-658-1238', 'distance': 691.472699408898}], 'total': 158, 'region': {'center': {'longitude': -79.445947, 'latitude': 43.67142}}}\n",
      "{'businesses': [{'id': 'dAmVTQ6ukuLh4UxTmBoRkg', 'alias': 'mahas-toronto-2', 'name': \"Maha's\", 'image_url': 'https://s3-media2.fl.yelpcdn.com/bphoto/Sx-jTXmJ5szMlqR6E9e6dA/o.jpg', 'is_closed': False, 'url': 'https://www.yelp.com/biz/mahas-toronto-2?adjust_creative=bgFAiaZNQ_2T2qA0ygnbbw&utm_campaign=yelp_api_v3&utm_medium=api_v3_business_search&utm_source=bgFAiaZNQ_2T2qA0ygnbbw', 'review_count': 598, 'categories': [{'alias': 'egyptian', 'title': 'Egyptian'}, {'alias': 'vegan', 'title': 'Vegan'}, {'alias': 'sandwiches', 'title': 'Sandwiches'}], 'rating': 4.0, 'coordinates': {'latitude': 43.67167, 'longitude': -79.32853}, 'transactions': [], 'price': '$$', 'location': {'address1': '226 Greenwood Avenue', 'address2': '', 'address3': '', 'city': 'Toronto', 'zip_code': 'M4L 2R2', 'country': 'CA', 'state': 'ON', 'display_address': ['226 Greenwood Avenue', 'Toronto, ON M4L 2R2', 'Canada']}, 'phone': '+14164622703', 'display_phone': '+1 416-462-2703', 'distance': 1066.4121359855728}, {'id': 'RUd_M7DPJq1I3DPq0oF--w', 'alias': 'lahore-tikka-house-toronto', 'name': 'Lahore Tikka House', 'image_url': 'https://s3-media2.fl.yelpcdn.com/bphoto/pMGUpKowuXRBwpHEtfYjKQ/o.jpg', 'is_closed': False, 'url': 'https://www.yelp.com/biz/lahore-tikka-house-toronto?adjust_creative=bgFAiaZNQ_2T2qA0ygnbbw&utm_campaign=yelp_api_v3&utm_medium=api_v3_business_search&utm_source=bgFAiaZNQ_2T2qA0ygnbbw', 'review_count': 544, 'categories': [{'alias': 'halal', 'title': 'Halal'}, {'alias': 'pakistani', 'title': 'Pakistani'}], 'rating': 3.5, 'coordinates': {'latitude': 43.67148, 'longitude': -79.32451}, 'transactions': [], 'price': '$$', 'location': {'address1': '1365 Gerrard Street E', 'address2': '', 'address3': '', 'city': 'Toronto', 'zip_code': 'M4L 1Z3', 'country': 'CA', 'state': 'ON', 'display_address': ['1365 Gerrard Street E', 'Toronto, ON M4L 1Z3', 'Canada']}, 'phone': '+14164061668', 'display_phone': '+1 416-406-1668', 'distance': 802.997541789159}, {'id': 'oWTn2IzrprsRkPfULtjZtQ', 'alias': 'the-burgers-priest-toronto', 'name': \"The Burger's Priest\", 'image_url': 'https://s3-media2.fl.yelpcdn.com/bphoto/bM8N4iMn3U6_BAy_vcawzg/o.jpg', 'is_closed': False, 'url': 'https://www.yelp.com/biz/the-burgers-priest-toronto?adjust_creative=bgFAiaZNQ_2T2qA0ygnbbw&utm_campaign=yelp_api_v3&utm_medium=api_v3_business_search&utm_source=bgFAiaZNQ_2T2qA0ygnbbw', 'review_count': 507, 'categories': [{'alias': 'burgers', 'title': 'Burgers'}], 'rating': 3.5, 'coordinates': {'latitude': 43.666699590075, 'longitude': -79.3155846030585}, 'transactions': [], 'price': '$$', 'location': {'address1': '1636 Queen Street E', 'address2': '', 'address3': '', 'city': 'Toronto', 'zip_code': 'M4L 1G3', 'country': 'CA', 'state': 'ON', 'display_address': ['1636 Queen Street E', 'Toronto, ON M4L 1G3', 'Canada']}, 'phone': '+16473460617', 'display_phone': '+1 647-346-0617', 'distance': 177.64325975172713}, {'id': 'A-KVm7iKLOe1X1yAQP13FA', 'alias': 'udupi-palace-toronto', 'name': 'Udupi Palace', 'image_url': 'https://s3-media2.fl.yelpcdn.com/bphoto/lI6g_nb8gBKEproAJh1a_A/o.jpg', 'is_closed': False, 'url': 'https://www.yelp.com/biz/udupi-palace-toronto?adjust_creative=bgFAiaZNQ_2T2qA0ygnbbw&utm_campaign=yelp_api_v3&utm_medium=api_v3_business_search&utm_source=bgFAiaZNQ_2T2qA0ygnbbw', 'review_count': 208, 'categories': [{'alias': 'indpak', 'title': 'Indian'}, {'alias': 'vegetarian', 'title': 'Vegetarian'}, {'alias': 'gluten_free', 'title': 'Gluten-Free'}], 'rating': 3.5, 'coordinates': {'latitude': 43.67273, 'longitude': -79.3210299}, 'transactions': [], 'price': '$$', 'location': {'address1': '1460 Gerrard Street E', 'address2': '', 'address3': '', 'city': 'Toronto', 'zip_code': 'M4L 2A3', 'country': 'CA', 'state': 'ON', 'display_address': ['1460 Gerrard Street E', 'Toronto, ON M4L 2A3', 'Canada']}, 'phone': '+14164058189', 'display_phone': '+1 416-405-8189', 'distance': 776.9763782879496}, {'id': '7vvliv5R0MD7BQ2CsquhcQ', 'alias': 'lazy-daisys-cafe-toronto-2', 'name': \"Lazy Daisy's Cafe\", 'image_url': 'https://s3-media3.fl.yelpcdn.com/bphoto/N_1Xb1McpDirlUkAGwmcQg/o.jpg', 'is_closed': False, 'url': 'https://www.yelp.com/biz/lazy-daisys-cafe-toronto-2?adjust_creative=bgFAiaZNQ_2T2qA0ygnbbw&utm_campaign=yelp_api_v3&utm_medium=api_v3_business_search&utm_source=bgFAiaZNQ_2T2qA0ygnbbw', 'review_count': 154, 'categories': [{'alias': 'cafes', 'title': 'Cafes'}, {'alias': 'breakfast_brunch', 'title': 'Breakfast & Brunch'}], 'rating': 4.0, 'coordinates': {'latitude': 43.6726699, 'longitude': -79.3194}, 'transactions': [], 'price': '$$', 'location': {'address1': '1515 Gerrard Street E', 'address2': '', 'address3': '', 'city': 'Toronto', 'zip_code': 'M4L 2A5', 'country': 'CA', 'state': 'ON', 'display_address': ['1515 Gerrard Street E', 'Toronto, ON M4L 2A5', 'Canada']}, 'phone': '+16473414070', 'display_phone': '+1 647-341-4070', 'distance': 735.3127653824478}], 'total': 110, 'region': {'center': {'longitude': -79.317693, 'latitude': 43.666224}}}\n",
      "{'businesses': [{'id': 'r_BrIgzYcwo1NAuG9dLbpg', 'alias': 'pai-northern-thai-kitchen-toronto-5', 'name': 'Pai Northern Thai Kitchen', 'image_url': 'https://s3-media1.fl.yelpcdn.com/bphoto/35lAqXjHJac-WOOQz5yMmA/o.jpg', 'is_closed': False, 'url': 'https://www.yelp.com/biz/pai-northern-thai-kitchen-toronto-5?adjust_creative=bgFAiaZNQ_2T2qA0ygnbbw&utm_campaign=yelp_api_v3&utm_medium=api_v3_business_search&utm_source=bgFAiaZNQ_2T2qA0ygnbbw', 'review_count': 3483, 'categories': [{'alias': 'thai', 'title': 'Thai'}], 'rating': 4.5, 'coordinates': {'latitude': 43.64784, 'longitude': -79.38872}, 'transactions': [], 'price': '$$', 'location': {'address1': '18 Duncan Street', 'address2': '', 'address3': '', 'city': 'Toronto', 'zip_code': 'M5H 3G8', 'country': 'CA', 'state': 'ON', 'display_address': ['18 Duncan Street', 'Toronto, ON M5H 3G8', 'Canada']}, 'phone': '+14169014724', 'display_phone': '+1 416-901-4724', 'distance': 1133.0794884581526}, {'id': 'RtUvSWO_UZ8V3Wpj0n077w', 'alias': 'kinka-izakaya-original-toronto-4', 'name': 'KINKA IZAKAYA ORIGINAL', 'image_url': 'https://s3-media3.fl.yelpcdn.com/bphoto/nHFVveLBqeiCGy12R2CnRA/o.jpg', 'is_closed': False, 'url': 'https://www.yelp.com/biz/kinka-izakaya-original-toronto-4?adjust_creative=bgFAiaZNQ_2T2qA0ygnbbw&utm_campaign=yelp_api_v3&utm_medium=api_v3_business_search&utm_source=bgFAiaZNQ_2T2qA0ygnbbw', 'review_count': 1815, 'categories': [{'alias': 'japanese', 'title': 'Japanese'}, {'alias': 'pubs', 'title': 'Pubs'}], 'rating': 4.0, 'coordinates': {'latitude': 43.66042406856627, 'longitude': -79.37890046282942}, 'transactions': [], 'price': '$$', 'location': {'address1': '398 Church Street', 'address2': '', 'address3': '', 'city': 'Toronto', 'zip_code': 'M5B 2A2', 'country': 'CA', 'state': 'ON', 'display_address': ['398 Church Street', 'Toronto, ON M5B 2A2', 'Canada']}, 'phone': '+14169770999', 'display_phone': '+1 416-977-0999', 'distance': 818.3672641461987}, {'id': 'RwRNR4z3kY-4OsFqigY5sw', 'alias': 'uncle-tetsus-japanese-cheesecake-toronto', 'name': \"Uncle Tetsu's Japanese Cheesecake\", 'image_url': 'https://s3-media4.fl.yelpcdn.com/bphoto/aS1O-Wwld26jG9685pyu0g/o.jpg', 'is_closed': False, 'url': 'https://www.yelp.com/biz/uncle-tetsus-japanese-cheesecake-toronto?adjust_creative=bgFAiaZNQ_2T2qA0ygnbbw&utm_campaign=yelp_api_v3&utm_medium=api_v3_business_search&utm_source=bgFAiaZNQ_2T2qA0ygnbbw', 'review_count': 1182, 'categories': [{'alias': 'desserts', 'title': 'Desserts'}, {'alias': 'bakeries', 'title': 'Bakeries'}], 'rating': 3.5, 'coordinates': {'latitude': 43.656215469918685, 'longitude': -79.3831956}, 'transactions': [], 'price': '$', 'location': {'address1': '595 Bay Street', 'address2': 'Unit E05', 'address3': '', 'city': 'Toronto', 'zip_code': 'M5G 2C2', 'country': 'CA', 'state': 'ON', 'display_address': ['595 Bay Street', 'Unit E05', 'Toronto, ON M5G 2C2', 'Canada']}, 'phone': '+14165910555', 'display_phone': '+1 416-591-0555', 'distance': 617.6596304744421}, {'id': '-av1lZI1JDY_RZN2eTMnWg', 'alias': 'salad-king-restaurant-toronto-2', 'name': 'Salad King Restaurant', 'image_url': 'https://s3-media2.fl.yelpcdn.com/bphoto/WeVLqlnm8r2-D5YU_b7DkA/o.jpg', 'is_closed': False, 'url': 'https://www.yelp.com/biz/salad-king-restaurant-toronto-2?adjust_creative=bgFAiaZNQ_2T2qA0ygnbbw&utm_campaign=yelp_api_v3&utm_medium=api_v3_business_search&utm_source=bgFAiaZNQ_2T2qA0ygnbbw', 'review_count': 1020, 'categories': [{'alias': 'thai', 'title': 'Thai'}], 'rating': 3.5, 'coordinates': {'latitude': 43.65766, 'longitude': -79.38164}, 'transactions': [], 'price': '$$', 'location': {'address1': '340 Yonge Street', 'address2': '', 'address3': '', 'city': 'Toronto', 'zip_code': 'M5B 1R8', 'country': 'CA', 'state': 'ON', 'display_address': ['340 Yonge Street', 'Toronto, ON M5B 1R8', 'Canada']}, 'phone': '+14165930333', 'display_phone': '+1 416-593-0333', 'distance': 640.9772159321678}, {'id': 'f5O7v_X_jCg2itqacRfxhg', 'alias': 'sansotei-ramen-toronto-2', 'name': 'Sansotei Ramen', 'image_url': 'https://s3-media1.fl.yelpcdn.com/bphoto/cgCDJADJkAYorOJ6Nkb99A/o.jpg', 'is_closed': False, 'url': 'https://www.yelp.com/biz/sansotei-ramen-toronto-2?adjust_creative=bgFAiaZNQ_2T2qA0ygnbbw&utm_campaign=yelp_api_v3&utm_medium=api_v3_business_search&utm_source=bgFAiaZNQ_2T2qA0ygnbbw', 'review_count': 943, 'categories': [{'alias': 'ramen', 'title': 'Ramen'}, {'alias': 'noodles', 'title': 'Noodles'}], 'rating': 4.0, 'coordinates': {'latitude': 43.655, 'longitude': -79.38643}, 'transactions': [], 'price': '$$', 'location': {'address1': '179 Dundas Street W', 'address2': '', 'address3': '', 'city': 'Toronto', 'zip_code': 'M5G 1Z8', 'country': 'CA', 'state': 'ON', 'display_address': ['179 Dundas Street W', 'Toronto, ON M5G 1Z8', 'Canada']}, 'phone': '+16477483833', 'display_phone': '+1 647-748-3833', 'distance': 808.3311820173079}], 'total': 1300, 'region': {'center': {'longitude': -79.376716, 'latitude': 43.653236}}}\n",
      "{'businesses': [{'id': 'RtUvSWO_UZ8V3Wpj0n077w', 'alias': 'kinka-izakaya-original-toronto-4', 'name': 'KINKA IZAKAYA ORIGINAL', 'image_url': 'https://s3-media3.fl.yelpcdn.com/bphoto/nHFVveLBqeiCGy12R2CnRA/o.jpg', 'is_closed': False, 'url': 'https://www.yelp.com/biz/kinka-izakaya-original-toronto-4?adjust_creative=bgFAiaZNQ_2T2qA0ygnbbw&utm_campaign=yelp_api_v3&utm_medium=api_v3_business_search&utm_source=bgFAiaZNQ_2T2qA0ygnbbw', 'review_count': 1815, 'categories': [{'alias': 'japanese', 'title': 'Japanese'}, {'alias': 'pubs', 'title': 'Pubs'}], 'rating': 4.0, 'coordinates': {'latitude': 43.66042406856627, 'longitude': -79.37890046282942}, 'transactions': [], 'price': '$$', 'location': {'address1': '398 Church Street', 'address2': '', 'address3': '', 'city': 'Toronto', 'zip_code': 'M5B 2A2', 'country': 'CA', 'state': 'ON', 'display_address': ['398 Church Street', 'Toronto, ON M5B 2A2', 'Canada']}, 'phone': '+14169770999', 'display_phone': '+1 416-977-0999', 'distance': 383.3225709992662}, {'id': 'RwRNR4z3kY-4OsFqigY5sw', 'alias': 'uncle-tetsus-japanese-cheesecake-toronto', 'name': \"Uncle Tetsu's Japanese Cheesecake\", 'image_url': 'https://s3-media4.fl.yelpcdn.com/bphoto/aS1O-Wwld26jG9685pyu0g/o.jpg', 'is_closed': False, 'url': 'https://www.yelp.com/biz/uncle-tetsus-japanese-cheesecake-toronto?adjust_creative=bgFAiaZNQ_2T2qA0ygnbbw&utm_campaign=yelp_api_v3&utm_medium=api_v3_business_search&utm_source=bgFAiaZNQ_2T2qA0ygnbbw', 'review_count': 1182, 'categories': [{'alias': 'desserts', 'title': 'Desserts'}, {'alias': 'bakeries', 'title': 'Bakeries'}], 'rating': 3.5, 'coordinates': {'latitude': 43.656215469918685, 'longitude': -79.3831956}, 'transactions': [], 'price': '$', 'location': {'address1': '595 Bay Street', 'address2': 'Unit E05', 'address3': '', 'city': 'Toronto', 'zip_code': 'M5G 2C2', 'country': 'CA', 'state': 'ON', 'display_address': ['595 Bay Street', 'Unit E05', 'Toronto, ON M5G 2C2', 'Canada']}, 'phone': '+14165910555', 'display_phone': '+1 416-591-0555', 'distance': 866.8397388902905}, {'id': '-av1lZI1JDY_RZN2eTMnWg', 'alias': 'salad-king-restaurant-toronto-2', 'name': 'Salad King Restaurant', 'image_url': 'https://s3-media2.fl.yelpcdn.com/bphoto/WeVLqlnm8r2-D5YU_b7DkA/o.jpg', 'is_closed': False, 'url': 'https://www.yelp.com/biz/salad-king-restaurant-toronto-2?adjust_creative=bgFAiaZNQ_2T2qA0ygnbbw&utm_campaign=yelp_api_v3&utm_medium=api_v3_business_search&utm_source=bgFAiaZNQ_2T2qA0ygnbbw', 'review_count': 1020, 'categories': [{'alias': 'thai', 'title': 'Thai'}], 'rating': 3.5, 'coordinates': {'latitude': 43.65766, 'longitude': -79.38164}, 'transactions': [], 'price': '$$', 'location': {'address1': '340 Yonge Street', 'address2': '', 'address3': '', 'city': 'Toronto', 'zip_code': 'M5B 1R8', 'country': 'CA', 'state': 'ON', 'display_address': ['340 Yonge Street', 'Toronto, ON M5B 1R8', 'Canada']}, 'phone': '+14165930333', 'display_phone': '+1 416-593-0333', 'distance': 690.2162633299187}, {'id': 'f5O7v_X_jCg2itqacRfxhg', 'alias': 'sansotei-ramen-toronto-2', 'name': 'Sansotei Ramen', 'image_url': 'https://s3-media1.fl.yelpcdn.com/bphoto/cgCDJADJkAYorOJ6Nkb99A/o.jpg', 'is_closed': False, 'url': 'https://www.yelp.com/biz/sansotei-ramen-toronto-2?adjust_creative=bgFAiaZNQ_2T2qA0ygnbbw&utm_campaign=yelp_api_v3&utm_medium=api_v3_business_search&utm_source=bgFAiaZNQ_2T2qA0ygnbbw', 'review_count': 943, 'categories': [{'alias': 'ramen', 'title': 'Ramen'}, {'alias': 'noodles', 'title': 'Noodles'}], 'rating': 4.0, 'coordinates': {'latitude': 43.655, 'longitude': -79.38643}, 'transactions': [], 'price': '$$', 'location': {'address1': '179 Dundas Street W', 'address2': '', 'address3': '', 'city': 'Toronto', 'zip_code': 'M5G 1Z8', 'country': 'CA', 'state': 'ON', 'display_address': ['179 Dundas Street W', 'Toronto, ON M5G 1Z8', 'Canada']}, 'phone': '+16477483833', 'display_phone': '+1 647-748-3833', 'distance': 1089.2349318379986}, {'id': 'DE89UdHFMCN6DtYWZuer5A', 'alias': 'hokkaido-ramen-santouka-toronto-2', 'name': 'Hokkaido Ramen Santouka', 'image_url': 'https://s3-media3.fl.yelpcdn.com/bphoto/tFakdWAU8JK86UsWmQCKUw/o.jpg', 'is_closed': False, 'url': 'https://www.yelp.com/biz/hokkaido-ramen-santouka-toronto-2?adjust_creative=bgFAiaZNQ_2T2qA0ygnbbw&utm_campaign=yelp_api_v3&utm_medium=api_v3_business_search&utm_source=bgFAiaZNQ_2T2qA0ygnbbw', 'review_count': 897, 'categories': [{'alias': 'ramen', 'title': 'Ramen'}, {'alias': 'noodles', 'title': 'Noodles'}], 'rating': 4.0, 'coordinates': {'latitude': 43.656321731393, 'longitude': -79.377499580039}, 'transactions': [], 'price': '$$', 'location': {'address1': '91 Dundas Street E', 'address2': '', 'address3': '', 'city': 'Toronto', 'zip_code': 'M5B 2C8', 'country': 'CA', 'state': 'ON', 'display_address': ['91 Dundas Street E', 'Toronto, ON M5B 2C8', 'Canada']}, 'phone': '+16477481717', 'display_phone': '+1 647-748-1717', 'distance': 852.8967085987813}], 'total': 933, 'region': {'center': {'longitude': -79.380288, 'latitude': 43.663722}}}\n",
      "{'businesses': [{'id': 'RtUvSWO_UZ8V3Wpj0n077w', 'alias': 'kinka-izakaya-original-toronto-4', 'name': 'KINKA IZAKAYA ORIGINAL', 'image_url': 'https://s3-media3.fl.yelpcdn.com/bphoto/nHFVveLBqeiCGy12R2CnRA/o.jpg', 'is_closed': False, 'url': 'https://www.yelp.com/biz/kinka-izakaya-original-toronto-4?adjust_creative=bgFAiaZNQ_2T2qA0ygnbbw&utm_campaign=yelp_api_v3&utm_medium=api_v3_business_search&utm_source=bgFAiaZNQ_2T2qA0ygnbbw', 'review_count': 1815, 'categories': [{'alias': 'japanese', 'title': 'Japanese'}, {'alias': 'pubs', 'title': 'Pubs'}], 'rating': 4.0, 'coordinates': {'latitude': 43.66042406856627, 'longitude': -79.37890046282942}, 'transactions': [], 'price': '$$', 'location': {'address1': '398 Church Street', 'address2': '', 'address3': '', 'city': 'Toronto', 'zip_code': 'M5B 2A2', 'country': 'CA', 'state': 'ON', 'display_address': ['398 Church Street', 'Toronto, ON M5B 2A2', 'Canada']}, 'phone': '+14169770999', 'display_phone': '+1 416-977-0999', 'distance': 877.1467901560992}, {'id': 'iGEvDk6hsizigmXhDKs2Vg', 'alias': 'seven-lives-tacos-y-mariscos-toronto', 'name': 'Seven Lives Tacos y Mariscos', 'image_url': 'https://s3-media2.fl.yelpcdn.com/bphoto/N_kER2ViaxhP6i7SDlIIOg/o.jpg', 'is_closed': False, 'url': 'https://www.yelp.com/biz/seven-lives-tacos-y-mariscos-toronto?adjust_creative=bgFAiaZNQ_2T2qA0ygnbbw&utm_campaign=yelp_api_v3&utm_medium=api_v3_business_search&utm_source=bgFAiaZNQ_2T2qA0ygnbbw', 'review_count': 1483, 'categories': [{'alias': 'mexican', 'title': 'Mexican'}], 'rating': 4.5, 'coordinates': {'latitude': 43.6544903, 'longitude': -79.4008299}, 'transactions': [], 'price': '$', 'location': {'address1': '72 Kensington Avenue', 'address2': '', 'address3': '', 'city': 'Toronto', 'zip_code': 'M5T 2K1', 'country': 'CA', 'state': 'ON', 'display_address': ['72 Kensington Avenue', 'Toronto, ON M5T 2K1', 'Canada']}, 'phone': '+14163934636', 'display_phone': '+1 416-393-4636', 'distance': 1006.6303824096711}, {'id': 'N93EYZy9R0sdlEvubu94ig', 'alias': 'banh-mi-boys-toronto', 'name': 'Banh Mi Boys', 'image_url': 'https://s3-media2.fl.yelpcdn.com/bphoto/qlwAgoSKen-4l_HxmdbVbg/o.jpg', 'is_closed': False, 'url': 'https://www.yelp.com/biz/banh-mi-boys-toronto?adjust_creative=bgFAiaZNQ_2T2qA0ygnbbw&utm_campaign=yelp_api_v3&utm_medium=api_v3_business_search&utm_source=bgFAiaZNQ_2T2qA0ygnbbw', 'review_count': 1244, 'categories': [{'alias': 'vietnamese', 'title': 'Vietnamese'}, {'alias': 'sandwiches', 'title': 'Sandwiches'}], 'rating': 4.5, 'coordinates': {'latitude': 43.64884, 'longitude': -79.39695}, 'transactions': [], 'price': '$', 'location': {'address1': '392 Queen Street W', 'address2': '', 'address3': '', 'city': 'Toronto', 'zip_code': 'M5V 2A9', 'country': 'CA', 'state': 'ON', 'display_address': ['392 Queen Street W', 'Toronto, ON M5V 2A9', 'Canada']}, 'phone': '+14163630588', 'display_phone': '+1 416-363-0588', 'distance': 1179.1313625401824}, {'id': 'RwRNR4z3kY-4OsFqigY5sw', 'alias': 'uncle-tetsus-japanese-cheesecake-toronto', 'name': \"Uncle Tetsu's Japanese Cheesecake\", 'image_url': 'https://s3-media4.fl.yelpcdn.com/bphoto/aS1O-Wwld26jG9685pyu0g/o.jpg', 'is_closed': False, 'url': 'https://www.yelp.com/biz/uncle-tetsus-japanese-cheesecake-toronto?adjust_creative=bgFAiaZNQ_2T2qA0ygnbbw&utm_campaign=yelp_api_v3&utm_medium=api_v3_business_search&utm_source=bgFAiaZNQ_2T2qA0ygnbbw', 'review_count': 1182, 'categories': [{'alias': 'desserts', 'title': 'Desserts'}, {'alias': 'bakeries', 'title': 'Bakeries'}], 'rating': 3.5, 'coordinates': {'latitude': 43.656215469918685, 'longitude': -79.3831956}, 'transactions': [], 'price': '$', 'location': {'address1': '595 Bay Street', 'address2': 'Unit E05', 'address3': '', 'city': 'Toronto', 'zip_code': 'M5G 2C2', 'country': 'CA', 'state': 'ON', 'display_address': ['595 Bay Street', 'Unit E05', 'Toronto, ON M5G 2C2', 'Canada']}, 'phone': '+14165910555', 'display_phone': '+1 416-591-0555', 'distance': 510.1244443974783}, {'id': '-av1lZI1JDY_RZN2eTMnWg', 'alias': 'salad-king-restaurant-toronto-2', 'name': 'Salad King Restaurant', 'image_url': 'https://s3-media2.fl.yelpcdn.com/bphoto/WeVLqlnm8r2-D5YU_b7DkA/o.jpg', 'is_closed': False, 'url': 'https://www.yelp.com/biz/salad-king-restaurant-toronto-2?adjust_creative=bgFAiaZNQ_2T2qA0ygnbbw&utm_campaign=yelp_api_v3&utm_medium=api_v3_business_search&utm_source=bgFAiaZNQ_2T2qA0ygnbbw', 'review_count': 1020, 'categories': [{'alias': 'thai', 'title': 'Thai'}], 'rating': 3.5, 'coordinates': {'latitude': 43.65766, 'longitude': -79.38164}, 'transactions': [], 'price': '$$', 'location': {'address1': '340 Yonge Street', 'address2': '', 'address3': '', 'city': 'Toronto', 'zip_code': 'M5B 1R8', 'country': 'CA', 'state': 'ON', 'display_address': ['340 Yonge Street', 'Toronto, ON M5B 1R8', 'Canada']}, 'phone': '+14165930333', 'display_phone': '+1 416-593-0333', 'distance': 585.9162397111279}], 'total': 1300, 'region': {'center': {'longitude': -79.389165, 'latitude': 43.657763}}}\n",
      "{'businesses': [{'id': 'r_BrIgzYcwo1NAuG9dLbpg', 'alias': 'pai-northern-thai-kitchen-toronto-5', 'name': 'Pai Northern Thai Kitchen', 'image_url': 'https://s3-media1.fl.yelpcdn.com/bphoto/35lAqXjHJac-WOOQz5yMmA/o.jpg', 'is_closed': False, 'url': 'https://www.yelp.com/biz/pai-northern-thai-kitchen-toronto-5?adjust_creative=bgFAiaZNQ_2T2qA0ygnbbw&utm_campaign=yelp_api_v3&utm_medium=api_v3_business_search&utm_source=bgFAiaZNQ_2T2qA0ygnbbw', 'review_count': 3483, 'categories': [{'alias': 'thai', 'title': 'Thai'}], 'rating': 4.5, 'coordinates': {'latitude': 43.64784, 'longitude': -79.38872}, 'transactions': [], 'price': '$$', 'location': {'address1': '18 Duncan Street', 'address2': '', 'address3': '', 'city': 'Toronto', 'zip_code': 'M5H 3G8', 'country': 'CA', 'state': 'ON', 'display_address': ['18 Duncan Street', 'Toronto, ON M5H 3G8', 'Canada']}, 'phone': '+14169014724', 'display_phone': '+1 416-901-4724', 'distance': 1095.5910142176267}, {'id': 'RtUvSWO_UZ8V3Wpj0n077w', 'alias': 'kinka-izakaya-original-toronto-4', 'name': 'KINKA IZAKAYA ORIGINAL', 'image_url': 'https://s3-media3.fl.yelpcdn.com/bphoto/nHFVveLBqeiCGy12R2CnRA/o.jpg', 'is_closed': False, 'url': 'https://www.yelp.com/biz/kinka-izakaya-original-toronto-4?adjust_creative=bgFAiaZNQ_2T2qA0ygnbbw&utm_campaign=yelp_api_v3&utm_medium=api_v3_business_search&utm_source=bgFAiaZNQ_2T2qA0ygnbbw', 'review_count': 1815, 'categories': [{'alias': 'japanese', 'title': 'Japanese'}, {'alias': 'pubs', 'title': 'Pubs'}], 'rating': 4.0, 'coordinates': {'latitude': 43.66042406856627, 'longitude': -79.37890046282942}, 'transactions': [], 'price': '$$', 'location': {'address1': '398 Church Street', 'address2': '', 'address3': '', 'city': 'Toronto', 'zip_code': 'M5B 2A2', 'country': 'CA', 'state': 'ON', 'display_address': ['398 Church Street', 'Toronto, ON M5B 2A2', 'Canada']}, 'phone': '+14169770999', 'display_phone': '+1 416-977-0999', 'distance': 513.829541801903}, {'id': 'RwRNR4z3kY-4OsFqigY5sw', 'alias': 'uncle-tetsus-japanese-cheesecake-toronto', 'name': \"Uncle Tetsu's Japanese Cheesecake\", 'image_url': 'https://s3-media4.fl.yelpcdn.com/bphoto/aS1O-Wwld26jG9685pyu0g/o.jpg', 'is_closed': False, 'url': 'https://www.yelp.com/biz/uncle-tetsus-japanese-cheesecake-toronto?adjust_creative=bgFAiaZNQ_2T2qA0ygnbbw&utm_campaign=yelp_api_v3&utm_medium=api_v3_business_search&utm_source=bgFAiaZNQ_2T2qA0ygnbbw', 'review_count': 1182, 'categories': [{'alias': 'desserts', 'title': 'Desserts'}, {'alias': 'bakeries', 'title': 'Bakeries'}], 'rating': 3.5, 'coordinates': {'latitude': 43.656215469918685, 'longitude': -79.3831956}, 'transactions': [], 'price': '$', 'location': {'address1': '595 Bay Street', 'address2': 'Unit E05', 'address3': '', 'city': 'Toronto', 'zip_code': 'M5G 2C2', 'country': 'CA', 'state': 'ON', 'display_address': ['595 Bay Street', 'Unit E05', 'Toronto, ON M5G 2C2', 'Canada']}, 'phone': '+14165910555', 'display_phone': '+1 416-591-0555', 'distance': 68.02728566944717}, {'id': '-av1lZI1JDY_RZN2eTMnWg', 'alias': 'salad-king-restaurant-toronto-2', 'name': 'Salad King Restaurant', 'image_url': 'https://s3-media2.fl.yelpcdn.com/bphoto/WeVLqlnm8r2-D5YU_b7DkA/o.jpg', 'is_closed': False, 'url': 'https://www.yelp.com/biz/salad-king-restaurant-toronto-2?adjust_creative=bgFAiaZNQ_2T2qA0ygnbbw&utm_campaign=yelp_api_v3&utm_medium=api_v3_business_search&utm_source=bgFAiaZNQ_2T2qA0ygnbbw', 'review_count': 1020, 'categories': [{'alias': 'thai', 'title': 'Thai'}], 'rating': 3.5, 'coordinates': {'latitude': 43.65766, 'longitude': -79.38164}, 'transactions': [], 'price': '$$', 'location': {'address1': '340 Yonge Street', 'address2': '', 'address3': '', 'city': 'Toronto', 'zip_code': 'M5B 1R8', 'country': 'CA', 'state': 'ON', 'display_address': ['340 Yonge Street', 'Toronto, ON M5B 1R8', 'Canada']}, 'phone': '+14165930333', 'display_phone': '+1 416-593-0333', 'distance': 120.74270111274144}, {'id': 'f5O7v_X_jCg2itqacRfxhg', 'alias': 'sansotei-ramen-toronto-2', 'name': 'Sansotei Ramen', 'image_url': 'https://s3-media1.fl.yelpcdn.com/bphoto/cgCDJADJkAYorOJ6Nkb99A/o.jpg', 'is_closed': False, 'url': 'https://www.yelp.com/biz/sansotei-ramen-toronto-2?adjust_creative=bgFAiaZNQ_2T2qA0ygnbbw&utm_campaign=yelp_api_v3&utm_medium=api_v3_business_search&utm_source=bgFAiaZNQ_2T2qA0ygnbbw', 'review_count': 943, 'categories': [{'alias': 'ramen', 'title': 'Ramen'}, {'alias': 'noodles', 'title': 'Noodles'}], 'rating': 4.0, 'coordinates': {'latitude': 43.655, 'longitude': -79.38643}, 'transactions': [], 'price': '$$', 'location': {'address1': '179 Dundas Street W', 'address2': '', 'address3': '', 'city': 'Toronto', 'zip_code': 'M5G 1Z8', 'country': 'CA', 'state': 'ON', 'display_address': ['179 Dundas Street W', 'Toronto, ON M5G 1Z8', 'Canada']}, 'phone': '+16477483833', 'display_phone': '+1 647-748-3833', 'distance': 355.8693090839165}], 'total': 1400, 'region': {'center': {'longitude': -79.382736, 'latitude': 43.656729}}}\n"
     ]
    }
   ],
   "source": [
    "# Function to fetch Yelp data for a given latitude and longitude\n",
    "def fetch_yelp_data(lat, lon):\n",
    "    url = f\"https://api.yelp.com/v3/businesses/search?latitude={lat}&longitude={lon}&term=food&radius=1000&sort_by=review_count&limit=5\"\n",
    "    response = requests.get(url, headers=headers)\n",
    "    print(response.json())\n",
    "    businesses = response.json().get(\"businesses\", [])\n",
    "    \n",
    "    extracted_data = []\n",
    "    for business in businesses:\n",
    "        name = business[\"name\"]\n",
    "        review_count = business[\"review_count\"]\n",
    "        categories = ', '.join([category[\"title\"] for category in business[\"categories\"]])\n",
    "        rating = business[\"rating\"]\n",
    "        display_address = ', '.join(business[\"location\"][\"display_address\"])\n",
    "        display_phone = business[\"display_phone\"]\n",
    "        distance = business[\"distance\"]\n",
    "\n",
    "        extracted_data.append([lat, lon, name, review_count, categories, rating, display_address, display_phone, distance])\n",
    "    \n",
    "    return extracted_data\n",
    "\n",
    "# Read the CSV file containing the latitudes and longitudes\n",
    "file_path = r\"C:\\Users\\wamm1\\Desktop\\P3-Statistical-Modelling-Project\\data\\sample_bikes.csv\"\n",
    "df_yelp = pd.read_csv(file_path)\n",
    "\n",
    "\n",
    "# Fetch Yelp data for each set of latitude and longitude\n",
    "all_data = []\n",
    "for _, row in df_yelp.iterrows():\n",
    "    all_data.extend(fetch_yelp_data(row[\"bike_latitude\"], row[\"bike_longitude\"]))"
   ]
  },
  {
   "cell_type": "markdown",
   "metadata": {},
   "source": [
    "Put your parsed results into a DataFrame"
   ]
  },
  {
   "cell_type": "markdown",
   "metadata": {},
   "source": []
  },
  {
   "cell_type": "code",
   "execution_count": 8,
   "metadata": {},
   "outputs": [
    {
     "name": "stdout",
     "output_type": "stream",
     "text": [
      "    bike_latitude  bike_longitude                                      name  \\\n",
      "0       43.665269      -79.319796                                    Maha's   \n",
      "1       43.665269      -79.319796                        Lahore Tikka House   \n",
      "2       43.665269      -79.319796                       The Burger's Priest   \n",
      "3       43.665269      -79.319796  Gio Rana's Really Really Nice Restaurant   \n",
      "4       43.665269      -79.319796                              Udupi Palace   \n",
      "5       43.671420      -79.445947                                      Agio   \n",
      "6       43.671420      -79.445947                     Khmer Thai Restaurant   \n",
      "7       43.671420      -79.445947                                  Parallel   \n",
      "8       43.671420      -79.445947                       Marcello’s pizzeria   \n",
      "9       43.671420      -79.445947                          Sushi California   \n",
      "10      43.666224      -79.317693                                    Maha's   \n",
      "11      43.666224      -79.317693                        Lahore Tikka House   \n",
      "12      43.666224      -79.317693                       The Burger's Priest   \n",
      "13      43.666224      -79.317693                              Udupi Palace   \n",
      "14      43.666224      -79.317693                         Lazy Daisy's Cafe   \n",
      "15      43.653236      -79.376716                 Pai Northern Thai Kitchen   \n",
      "16      43.653236      -79.376716                    KINKA IZAKAYA ORIGINAL   \n",
      "17      43.653236      -79.376716         Uncle Tetsu's Japanese Cheesecake   \n",
      "18      43.653236      -79.376716                     Salad King Restaurant   \n",
      "19      43.653236      -79.376716                            Sansotei Ramen   \n",
      "20      43.663722      -79.380288                    KINKA IZAKAYA ORIGINAL   \n",
      "21      43.663722      -79.380288         Uncle Tetsu's Japanese Cheesecake   \n",
      "22      43.663722      -79.380288                     Salad King Restaurant   \n",
      "23      43.663722      -79.380288                            Sansotei Ramen   \n",
      "24      43.663722      -79.380288                   Hokkaido Ramen Santouka   \n",
      "25      43.657763      -79.389165                    KINKA IZAKAYA ORIGINAL   \n",
      "26      43.657763      -79.389165              Seven Lives Tacos y Mariscos   \n",
      "27      43.657763      -79.389165                              Banh Mi Boys   \n",
      "28      43.657763      -79.389165         Uncle Tetsu's Japanese Cheesecake   \n",
      "29      43.657763      -79.389165                     Salad King Restaurant   \n",
      "30      43.656729      -79.382736                 Pai Northern Thai Kitchen   \n",
      "31      43.656729      -79.382736                    KINKA IZAKAYA ORIGINAL   \n",
      "32      43.656729      -79.382736         Uncle Tetsu's Japanese Cheesecake   \n",
      "33      43.656729      -79.382736                     Salad King Restaurant   \n",
      "34      43.656729      -79.382736                            Sansotei Ramen   \n",
      "\n",
      "    review_count                       categories  rating  \\\n",
      "0            598      Egyptian, Vegan, Sandwiches     4.0   \n",
      "1            544                 Halal, Pakistani     3.5   \n",
      "2            507                          Burgers     3.5   \n",
      "3            230      Italian, Tapas/Small Plates     4.0   \n",
      "4            208  Indian, Vegetarian, Gluten-Free     3.5   \n",
      "5            190                          Italian     4.5   \n",
      "6            139                  Thai, Cambodian     4.0   \n",
      "7            105                    Mediterranean     4.0   \n",
      "8            102                   Pizza, Italian     4.0   \n",
      "9            101                       Sushi Bars     3.5   \n",
      "10           598      Egyptian, Vegan, Sandwiches     4.0   \n",
      "11           544                 Halal, Pakistani     3.5   \n",
      "12           507                          Burgers     3.5   \n",
      "13           208  Indian, Vegetarian, Gluten-Free     3.5   \n",
      "14           154        Cafes, Breakfast & Brunch     4.0   \n",
      "15          3483                             Thai     4.5   \n",
      "16          1815                   Japanese, Pubs     4.0   \n",
      "17          1182               Desserts, Bakeries     3.5   \n",
      "18          1020                             Thai     3.5   \n",
      "19           943                   Ramen, Noodles     4.0   \n",
      "20          1815                   Japanese, Pubs     4.0   \n",
      "21          1182               Desserts, Bakeries     3.5   \n",
      "22          1020                             Thai     3.5   \n",
      "23           943                   Ramen, Noodles     4.0   \n",
      "24           897                   Ramen, Noodles     4.0   \n",
      "25          1815                   Japanese, Pubs     4.0   \n",
      "26          1483                          Mexican     4.5   \n",
      "27          1244           Vietnamese, Sandwiches     4.5   \n",
      "28          1182               Desserts, Bakeries     3.5   \n",
      "29          1020                             Thai     3.5   \n",
      "30          3483                             Thai     4.5   \n",
      "31          1815                   Japanese, Pubs     4.0   \n",
      "32          1182               Desserts, Bakeries     3.5   \n",
      "33          1020                             Thai     3.5   \n",
      "34           943                   Ramen, Noodles     4.0   \n",
      "\n",
      "                                              address            phone  \\\n",
      "0   226 Greenwood Avenue, Toronto, ON M4L 2R2, Canada  +1 416-462-2703   \n",
      "1   1365 Gerrard Street E, Toronto, ON M4L 1Z3, Ca...  +1 416-406-1668   \n",
      "2    1636 Queen Street E, Toronto, ON M4L 1G3, Canada  +1 647-346-0617   \n",
      "3   1220 Queen Street East, Toronto, ON M4M 1L7, C...  +1 416-469-5225   \n",
      "4   1460 Gerrard Street E, Toronto, ON M4L 2A3, Ca...  +1 416-405-8189   \n",
      "5   1351 St Clair Avenue W, Toronto, ON M6E 1C5, C...  +1 647-348-4814   \n",
      "6   1018 St Clair Avenue W, Toronto, ON M6E 1A4, C...  +1 416-654-0609   \n",
      "7       217 Geary Avenue, Toronto, ON M6H 2C1, Canada  +1 416-516-7765   \n",
      "8   1163 Saint Clair Avenue W, Toronto, ON M6E 1B2...  +1 416-656-6159   \n",
      "9   1238 Saint Clair Avenue W, Toronto, ON M6E, Ca...  +1 416-658-1238   \n",
      "10  226 Greenwood Avenue, Toronto, ON M4L 2R2, Canada  +1 416-462-2703   \n",
      "11  1365 Gerrard Street E, Toronto, ON M4L 1Z3, Ca...  +1 416-406-1668   \n",
      "12   1636 Queen Street E, Toronto, ON M4L 1G3, Canada  +1 647-346-0617   \n",
      "13  1460 Gerrard Street E, Toronto, ON M4L 2A3, Ca...  +1 416-405-8189   \n",
      "14  1515 Gerrard Street E, Toronto, ON M4L 2A5, Ca...  +1 647-341-4070   \n",
      "15      18 Duncan Street, Toronto, ON M5H 3G8, Canada  +1 416-901-4724   \n",
      "16     398 Church Street, Toronto, ON M5B 2A2, Canada  +1 416-977-0999   \n",
      "17  595 Bay Street, Unit E05, Toronto, ON M5G 2C2,...  +1 416-591-0555   \n",
      "18      340 Yonge Street, Toronto, ON M5B 1R8, Canada  +1 416-593-0333   \n",
      "19   179 Dundas Street W, Toronto, ON M5G 1Z8, Canada  +1 647-748-3833   \n",
      "20     398 Church Street, Toronto, ON M5B 2A2, Canada  +1 416-977-0999   \n",
      "21  595 Bay Street, Unit E05, Toronto, ON M5G 2C2,...  +1 416-591-0555   \n",
      "22      340 Yonge Street, Toronto, ON M5B 1R8, Canada  +1 416-593-0333   \n",
      "23   179 Dundas Street W, Toronto, ON M5G 1Z8, Canada  +1 647-748-3833   \n",
      "24    91 Dundas Street E, Toronto, ON M5B 2C8, Canada  +1 647-748-1717   \n",
      "25     398 Church Street, Toronto, ON M5B 2A2, Canada  +1 416-977-0999   \n",
      "26  72 Kensington Avenue, Toronto, ON M5T 2K1, Canada  +1 416-393-4636   \n",
      "27    392 Queen Street W, Toronto, ON M5V 2A9, Canada  +1 416-363-0588   \n",
      "28  595 Bay Street, Unit E05, Toronto, ON M5G 2C2,...  +1 416-591-0555   \n",
      "29      340 Yonge Street, Toronto, ON M5B 1R8, Canada  +1 416-593-0333   \n",
      "30      18 Duncan Street, Toronto, ON M5H 3G8, Canada  +1 416-901-4724   \n",
      "31     398 Church Street, Toronto, ON M5B 2A2, Canada  +1 416-977-0999   \n",
      "32  595 Bay Street, Unit E05, Toronto, ON M5G 2C2,...  +1 416-591-0555   \n",
      "33      340 Yonge Street, Toronto, ON M5B 1R8, Canada  +1 416-593-0333   \n",
      "34   179 Dundas Street W, Toronto, ON M5G 1Z8, Canada  +1 647-748-3833   \n",
      "\n",
      "       distance  \n",
      "0   1005.190035  \n",
      "1    787.473798  \n",
      "2    374.238073  \n",
      "3    881.124117  \n",
      "4    839.396242  \n",
      "5    646.471211  \n",
      "6   1091.476227  \n",
      "7    631.882331  \n",
      "8    769.575301  \n",
      "9    691.472699  \n",
      "10  1066.412136  \n",
      "11   802.997542  \n",
      "12   177.643260  \n",
      "13   776.976378  \n",
      "14   735.312765  \n",
      "15  1133.079488  \n",
      "16   818.367264  \n",
      "17   617.659630  \n",
      "18   640.977216  \n",
      "19   808.331182  \n",
      "20   383.322571  \n",
      "21   866.839739  \n",
      "22   690.216263  \n",
      "23  1089.234932  \n",
      "24   852.896709  \n",
      "25   877.146790  \n",
      "26  1006.630382  \n",
      "27  1179.131363  \n",
      "28   510.124444  \n",
      "29   585.916240  \n",
      "30  1095.591014  \n",
      "31   513.829542  \n",
      "32    68.027286  \n",
      "33   120.742701  \n",
      "34   355.869309  \n"
     ]
    }
   ],
   "source": [
    "df_all_yelp = pd.DataFrame(all_data, columns=[\"bike_latitude\", \"bike_longitude\", \"name\", \"review_count\", \"categories\", \"rating\", \"address\", \"phone\", \"distance\"])\n",
    "\n",
    "print(df_all_yelp)\n",
    "df_all_yelp.to_csv(\"C:\\\\Users\\\\wamm1\\\\Desktop\\\\P3-Statistical-Modelling-Project\\\\data\\\\df_all_yelp.csv\", index=False)"
   ]
  },
  {
   "cell_type": "markdown",
   "metadata": {},
   "source": [
    "# Comparing Results"
   ]
  },
  {
   "cell_type": "markdown",
   "metadata": {},
   "source": [
    "Which API provided you with more complete data? Provide an explanation. "
   ]
  },
  {
   "cell_type": "markdown",
   "metadata": {},
   "source": [
    "Comparing results:\n",
    "    *Foursquare provides multiple geocodes (drop_off, main, roof), which could be useful for different use cases. It also provides an icon URL for the category\n",
    "    *Yelp provides a direct URL to the business's Yelp page, an image URL for the business, a review count, and a rating. \n",
    "    *when it comes to the address, foursqure dives a bit deeper and gives information such as: country, locaility, postal code and region\n",
    "    *Yelp provides a phone number for the business.\n",
    "    *Yelp also provides the total business found in the area even though the returned api call was limited to 5. foursqare doesnt tell us how many businesses there are on top of the requested 5\n",
    "Get the top 10 restaurants according to their rating:   \n",
    "    *Both api requested where sorted by rating. I divided the top 10 restusrants into 5 each for each API request\n",
    "'''"
   ]
  },
  {
   "cell_type": "markdown",
   "metadata": {},
   "source": [
    "Get the top 10 restaurants according to their rating"
   ]
  },
  {
   "cell_type": "code",
   "execution_count": 9,
   "metadata": {},
   "outputs": [],
   "source": [
    "#can be answered direcrly through the yelp api because it gives ratings.\n",
    "#url = f\"https://api.yelp.com/v3/businesses/search?latitude={lat}&longitude={lon}&term=food&radius=1000&sort_by=review_count&limit=5\"\n",
    "#in the line above of the api call, change sort_by from review_count to rating and limit from 5 to 10."
   ]
  },
  {
   "cell_type": "code",
   "execution_count": null,
   "metadata": {},
   "outputs": [],
   "source": []
  }
 ],
 "metadata": {
  "kernelspec": {
   "display_name": "Python 3",
   "language": "python",
   "name": "python3"
  },
  "language_info": {
   "codemirror_mode": {
    "name": "ipython",
    "version": 3
   },
   "file_extension": ".py",
   "mimetype": "text/x-python",
   "name": "python",
   "nbconvert_exporter": "python",
   "pygments_lexer": "ipython3",
   "version": "3.11.4"
  }
 },
 "nbformat": 4,
 "nbformat_minor": 4
}
