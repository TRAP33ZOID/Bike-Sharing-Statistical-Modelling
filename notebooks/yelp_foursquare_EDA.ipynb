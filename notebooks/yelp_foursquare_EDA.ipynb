{
 "cells": [
  {
   "cell_type": "code",
   "execution_count": 1,
   "metadata": {},
   "outputs": [],
   "source": [
    "# imports\n",
    "import requests\n",
    "import pandas as pd\n",
    "import os"
   ]
  },
  {
   "cell_type": "code",
   "execution_count": 3,
   "metadata": {},
   "outputs": [],
   "source": [
    "yelp_api_key = os.environ[\"yelp_api_key\"]"
   ]
  },
  {
   "cell_type": "markdown",
   "metadata": {},
   "source": [
    "# Foursquare"
   ]
  },
  {
   "cell_type": "markdown",
   "metadata": {},
   "source": [
    "Send a request to Foursquare with a small radius (1000m) for all the bike stations in your city of choice. "
   ]
  },
  {
   "cell_type": "code",
   "execution_count": 4,
   "metadata": {},
   "outputs": [],
   "source": [
    "# Define the headers for the Foursquare API call\n",
    "headers = {\n",
    "    \"accept\": \"application/json\",\n",
    "    \"Authorization\": yelp_api_key\n",
    "}"
   ]
  },
  {
   "cell_type": "markdown",
   "metadata": {},
   "source": [
    "Parse through the response to get the POI (such as restaurants, bars, etc) details you want (ratings, name, location, etc)"
   ]
  },
  {
   "cell_type": "code",
   "execution_count": 5,
   "metadata": {},
   "outputs": [],
   "source": [
    "# Function to fetch Foursquare data for a given latitude and longitude\n",
    "def fetch_foursquare_data(lat, lon):\n",
    "    url = f\"https://api.foursquare.com/v3/places/search?query=%20&ll={lat}%2C{lon}&radius=1000&categories=13000&sort=RELEVANCE&limit=5\"\n",
    "    response = requests.get(url, headers=headers)\n",
    "    \n",
    "    results = response.json().get(\"results\", [])\n",
    "    \n",
    "    extracted_data = []\n",
    "    for result in results:\n",
    "        name = result[\"name\"]\n",
    "        distance = result[\"distance\"]\n",
    "        formatted_address = result[\"location\"][\"formatted_address\"]\n",
    "        \n",
    "        extracted_data.append([lat, lon, name, distance, formatted_address,])\n",
    "    \n",
    "    return extracted_data\n",
    "\n",
    "# File path for the CSV file containing the latitudes and longitudes\n",
    "file_path = r\"C:\\Users\\wamm1\\Desktop\\py project\\py-project\\notebooks\\sample_bikes.csv\"\n",
    "df_bikes = pd.read_csv(file_path)\n",
    "\n",
    "# Fetch Foursquare data for each set of latitude and longitude\n",
    "all_foursquare_data = []\n",
    "for _, row in df_bikes.iterrows():\n",
    "    all_foursquare_data.extend(fetch_foursquare_data(row[\"latitude\"], row[\"longitude\"]))"
   ]
  },
  {
   "cell_type": "markdown",
   "metadata": {},
   "source": [
    "Put your parsed results into a DataFrame"
   ]
  },
  {
   "cell_type": "code",
   "execution_count": 6,
   "metadata": {},
   "outputs": [
    {
     "name": "stdout",
     "output_type": "stream",
     "text": [
      "Empty DataFrame\n",
      "Columns: [bike_latitude, bike_longitude, name, distance, address]\n",
      "Index: []\n"
     ]
    }
   ],
   "source": [
    "df_all_foursquare = pd.DataFrame(all_foursquare_data, columns=[\"bike_latitude\", \"bike_longitude\", \"name\", \"distance\", \"address\"])\n",
    "\n",
    "# Display or save/export the dataframe as needed\n",
    "print(df_all_foursquare)\n",
    "df_all_foursquare.to_csv('df_all_foursquare.csv', index=False)\n"
   ]
  },
  {
   "cell_type": "markdown",
   "metadata": {},
   "source": [
    "# Yelp"
   ]
  },
  {
   "cell_type": "markdown",
   "metadata": {},
   "source": [
    "Send a request to Yelp with a small radius (1000m) for all the bike stations in your city of choice. "
   ]
  },
  {
   "cell_type": "code",
   "execution_count": 12,
   "metadata": {},
   "outputs": [],
   "source": [
    "# Define the headers for the Yelp API call\n",
    "headers = {\n",
    "    \"accept\": \"application/json\",\n",
    "    \"Authorization\": yelp_api_key}\n"
   ]
  },
  {
   "cell_type": "markdown",
   "metadata": {},
   "source": [
    "Parse through the response to get the POI (such as restaurants, bars, etc) details you want (ratings, name, location, etc)"
   ]
  },
  {
   "cell_type": "code",
   "execution_count": 14,
   "metadata": {},
   "outputs": [
    {
     "name": "stdout",
     "output_type": "stream",
     "text": [
      "<Response [400]>\n",
      "<Response [400]>\n",
      "<Response [400]>\n",
      "<Response [400]>\n",
      "<Response [400]>\n",
      "<Response [400]>\n",
      "<Response [400]>\n"
     ]
    }
   ],
   "source": [
    "# Function to fetch Yelp data for a given latitude and longitude\n",
    "def fetch_yelp_data(lat, lon):\n",
    "    url = f\"https://api.yelp.com/v3/businesses/search?latitude={lat}&longitude={lon}&term=food&radius=1000&sort_by=review_count&limit=5\"\n",
    "    response = requests.get(url, headers=headers)\n",
    "    print (response)\n",
    "    businesses = response.json().get(\"businesses\", [])\n",
    "    \n",
    "    extracted_data = []\n",
    "    for business in businesses:\n",
    "        name = business[\"name\"]\n",
    "        review_count = business[\"review_count\"]\n",
    "        categories = ', '.join([category[\"title\"] for category in business[\"categories\"]])\n",
    "        rating = business[\"rating\"]\n",
    "        display_address = ', '.join(business[\"location\"][\"display_address\"])\n",
    "        display_phone = business[\"display_phone\"]\n",
    "        distance = business[\"distance\"]\n",
    "\n",
    "        extracted_data.append([lat, lon, name, review_count, categories, rating, display_address, display_phone, distance])\n",
    "    \n",
    "    return extracted_data\n",
    "\n",
    "# Read the CSV file containing the latitudes and longitudes\n",
    "file_path = r\"C:\\Users\\wamm1\\Desktop\\py project\\py-project\\notebooks\\sample_bikes.csv\"\n",
    "\n",
    "df_yelp = pd.read_csv(file_path)\n",
    "\n",
    "\n",
    "# Fetch Yelp data for each set of latitude and longitude\n",
    "all_data = []\n",
    "for _, row in df_yelp.iterrows():\n",
    "    all_data.extend(fetch_yelp_data(row[\"latitude\"], row[\"longitude\"]))"
   ]
  },
  {
   "cell_type": "markdown",
   "metadata": {},
   "source": [
    "Put your parsed results into a DataFrame"
   ]
  },
  {
   "cell_type": "markdown",
   "metadata": {},
   "source": []
  },
  {
   "cell_type": "code",
   "execution_count": 11,
   "metadata": {},
   "outputs": [
    {
     "name": "stdout",
     "output_type": "stream",
     "text": [
      "Empty DataFrame\n",
      "Columns: [bike_latitude, bike_longitude, name, review_count, categories, rating, address, phone, distance]\n",
      "Index: []\n"
     ]
    }
   ],
   "source": [
    "df_all_yelp = pd.DataFrame(all_data, columns=[\"bike_latitude\", \"bike_longitude\", \"name\", \"review_count\", \"categories\", \"rating\", \"address\", \"phone\", \"distance\"])\n",
    "\n",
    "print(df_all_yelp)\n",
    "df_all_yelp.to_csv('df_all_yelp.csv', index=False)"
   ]
  },
  {
   "cell_type": "markdown",
   "metadata": {},
   "source": [
    "# Comparing Results"
   ]
  },
  {
   "cell_type": "markdown",
   "metadata": {},
   "source": [
    "Which API provided you with more complete data? Provide an explanation. "
   ]
  },
  {
   "cell_type": "markdown",
   "metadata": {},
   "source": [
    "Comparing results:\n",
    "    *Foursquare provides multiple geocodes (drop_off, main, roof), which could be useful for different use cases. It also provides an icon URL for the category\n",
    "    *Yelp provides a direct URL to the business's Yelp page, an image URL for the business, a review count, and a rating. \n",
    "    *when it comes to the address, foursqure dives a bit deeper and gives information such as: country, locaility, postal code and region\n",
    "    *Yelp provides a phone number for the business.\n",
    "    *Yelp also provides the total business found in the area even though the returned api call was limited to 5. foursqare doesnt tell us how many businesses there are on top of the requested 5\n",
    "Get the top 10 restaurants according to their rating:   \n",
    "    *Both api requested where sorted by rating. I divided the top 10 restusrants into 5 each for each API request\n",
    "'''"
   ]
  },
  {
   "cell_type": "markdown",
   "metadata": {},
   "source": [
    "Get the top 10 restaurants according to their rating"
   ]
  },
  {
   "cell_type": "code",
   "execution_count": null,
   "metadata": {},
   "outputs": [],
   "source": [
    "#can be answered direcrly through the yelp api because it gives ratings.\n",
    "#url = f\"https://api.yelp.com/v3/businesses/search?latitude={lat}&longitude={lon}&term=food&radius=1000&sort_by=review_count&limit=5\"\n",
    "#in the line above of the api call, change sort_by from review_count to rating and limit from 5 to 10."
   ]
  },
  {
   "cell_type": "code",
   "execution_count": null,
   "metadata": {},
   "outputs": [],
   "source": []
  }
 ],
 "metadata": {
  "kernelspec": {
   "display_name": "Python 3",
   "language": "python",
   "name": "python3"
  },
  "language_info": {
   "codemirror_mode": {
    "name": "ipython",
    "version": 3
   },
   "file_extension": ".py",
   "mimetype": "text/x-python",
   "name": "python",
   "nbconvert_exporter": "python",
   "pygments_lexer": "ipython3",
   "version": "3.11.4"
  }
 },
 "nbformat": 4,
 "nbformat_minor": 4
}
