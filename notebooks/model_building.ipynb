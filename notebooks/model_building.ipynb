{
 "cells": [
  {
   "cell_type": "markdown",
   "metadata": {},
   "source": [
    "Build a regression model."
   ]
  },
  {
   "cell_type": "code",
   "execution_count": 2,
   "metadata": {},
   "outputs": [
    {
     "name": "stdout",
     "output_type": "stream",
     "text": [
      "                            OLS Regression Results                            \n",
      "==============================================================================\n",
      "Dep. Variable:             free_bikes   R-squared:                       0.009\n",
      "Model:                            OLS   Adj. R-squared:                  0.005\n",
      "Method:                 Least Squares   F-statistic:                     2.099\n",
      "Date:                Fri, 08 Sep 2023   Prob (F-statistic):             0.0991\n",
      "Time:                        23:45:49   Log-Likelihood:                -2327.1\n",
      "No. Observations:                 696   AIC:                             4662.\n",
      "Df Residuals:                     692   BIC:                             4680.\n",
      "Df Model:                           3                                         \n",
      "Covariance Type:            nonrobust                                         \n",
      "=========================================================================================\n",
      "                            coef    std err          t      P>|t|      [0.025      0.975]\n",
      "-----------------------------------------------------------------------------------------\n",
      "const                     8.1684      0.262     31.200      0.000       7.654       8.682\n",
      "foursquare_pois_count    15.7321      8.851      1.777      0.076      -1.646      33.110\n",
      "yelp_pois_count          15.7321      8.851      1.777      0.076      -1.646      33.110\n",
      "avg_rating              -39.1668     23.281     -1.682      0.093     -84.877       6.543\n",
      "total_reviews            -0.0005      0.001     -0.544      0.586      -0.002       0.001\n",
      "==============================================================================\n",
      "Omnibus:                      116.951   Durbin-Watson:                   1.727\n",
      "Prob(Omnibus):                  0.000   Jarque-Bera (JB):              191.006\n",
      "Skew:                           1.061   Prob(JB):                     3.34e-42\n",
      "Kurtosis:                       4.442   Cond. No.                     5.22e+17\n",
      "==============================================================================\n",
      "\n",
      "Notes:\n",
      "[1] Standard Errors assume that the covariance matrix of the errors is correctly specified.\n",
      "[2] The smallest eigenvalue is 8.49e-28. This might indicate that there are\n",
      "strong multicollinearity problems or that the design matrix is singular.\n"
     ]
    }
   ],
   "source": [
    "import pandas as pd\n",
    "import statsmodels.api as sm\n",
    "\n",
    "# Load the datasets\n",
    "df_all_foursquare = pd.read_csv(\"C:\\\\Users\\\\wamm1\\\\Desktop\\\\P3-Statistical-Modelling-Project\\\\data\\\\df_all_foursquare.csv\")\n",
    "df_all_yelp = pd.read_csv(\"C:\\\\Users\\\\wamm1\\\\Desktop\\\\P3-Statistical-Modelling-Project\\\\data\\\\df_all_yelp.csv\")\n",
    "df_bikes = pd.read_csv(\"C:\\\\Users\\\\wamm1\\\\Desktop\\\\P3-Statistical-Modelling-Project\\\\data\\\\df_bikes.csv\")\n",
    "\n",
    "# Merge the dataframes based on bike_latitude and bike_longitude\n",
    "merged_foursquare = pd.merge(df_bikes, df_all_foursquare, on=['bike_latitude', 'bike_longitude'], how='left')\n",
    "merged_yelp = pd.merge(df_bikes, df_all_yelp, on=['bike_latitude', 'bike_longitude'], how='left')\n",
    "\n",
    "# Generate features\n",
    "foursquare_features = merged_foursquare.groupby(['bike_latitude', 'bike_longitude']).agg(\n",
    "    foursquare_pois_count=('name', 'count')\n",
    ").reset_index()\n",
    "\n",
    "yelp_features = merged_yelp.groupby(['bike_latitude', 'bike_longitude']).agg(\n",
    "    yelp_pois_count=('name', 'count'),\n",
    "    avg_rating=('rating', 'mean'),\n",
    "    total_reviews=('review_count', 'sum')\n",
    ").reset_index()\n",
    "\n",
    "# Merge the features with the original bike data\n",
    "final_df = pd.merge(df_bikes, foursquare_features, on=['bike_latitude', 'bike_longitude'], how='left')\n",
    "final_df = pd.merge(final_df, yelp_features, on=['bike_latitude', 'bike_longitude'], how='left')\n",
    "\n",
    "\n",
    "final_df.fillna(0, inplace=True)\n",
    "\n",
    "# Regression Model\n",
    "X = final_df[['foursquare_pois_count', 'yelp_pois_count', 'avg_rating', 'total_reviews']]\n",
    "X = sm.add_constant(X)  # Add a constant (intercept term) to the predictors\n",
    "y = final_df['free_bikes']\n",
    "\n",
    "# Fit the model\n",
    "model = sm.OLS(y, X).fit()\n",
    "\n",
    "# Print the model summary\n",
    "print(model.summary())\n"
   ]
  },
  {
   "cell_type": "markdown",
   "metadata": {},
   "source": [
    "Provide model output and an interpretation of the results. "
   ]
  },
  {
   "cell_type": "markdown",
   "metadata": {},
   "source": [
    "Coefficients:\n",
    "\n",
    "    const (Intercept): 8.7489\n",
    "    foursquare_pois_count: 2.3871\n",
    "    yelp_pois_count: 2.3871\n",
    "    avg_rating: -3.9973\n",
    "    total_reviews: -0.0011\n",
    "\n",
    "Interpretation:\n",
    "\n",
    "    foursquare_pois_count and yelp_pois_count: For each additional POI from either Foursquare or Yelp, we expect an increase of approximately 2.3871 bikes on average, holding all other variables constant. However, the high p-values (0.776) suggest these variables are not statistically significant predictors of free_bikes.\n",
    "\n",
    "    avg_rating: For each unit increase in the average rating, the number of free bikes decreases by around 4, holding all other variables constant. This is a bit counterintuitive, but the high p-value (0.856) indicates that this variable is not a statistically significant predictor.\n",
    "\n",
    "    The model's R-squared value is extremely low, indicating that our model doesn't explain much of the variance in the number of free bikes."
   ]
  },
  {
   "cell_type": "markdown",
   "metadata": {},
   "source": [
    "MODEL TESTING"
   ]
  },
  {
   "cell_type": "markdown",
   "metadata": {},
   "source": [
    "Historgrams"
   ]
  },
  {
   "cell_type": "code",
   "execution_count": 3,
   "metadata": {},
   "outputs": [
    {
     "data": {
      "image/png": "[encoded data removed]",
      "text/plain": [
       "<Figure size 640x480 with 1 Axes>"
      ]
     },
     "metadata": {},
     "output_type": "display_data"
    }
   ],
   "source": [
    "import matplotlib.pyplot as plt\n",
    "residuals = model.resid\n",
    "plt.hist(residuals, bins=30, edgecolor='k')\n",
    "plt.title('Histogram of Residuals')\n",
    "plt.xlabel('Residual Value')\n",
    "plt.ylabel('Frequency')\n",
    "plt.show()\n"
   ]
  },
  {
   "cell_type": "markdown",
   "metadata": {},
   "source": [
    "# Stretch"
   ]
  },
  {
   "cell_type": "markdown",
   "metadata": {},
   "source": [
    "How can you turn the regression model into a classification model?"
   ]
  },
  {
   "cell_type": "code",
   "execution_count": null,
   "metadata": {},
   "outputs": [],
   "source": []
  }
 ],
 "metadata": {
  "kernelspec": {
   "display_name": "Python 3",
   "language": "python",
   "name": "python3"
  },
  "language_info": {
   "codemirror_mode": {
    "name": "ipython",
    "version": 3
   },
   "file_extension": ".py",
   "mimetype": "text/x-python",
   "name": "python",
   "nbconvert_exporter": "python",
   "pygments_lexer": "ipython3",
   "version": "3.11.4"
  }
 },
 "nbformat": 4,
 "nbformat_minor": 4
}
